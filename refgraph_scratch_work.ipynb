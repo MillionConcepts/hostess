{
 "cells": [
  {
   "cell_type": "code",
   "execution_count": 54,
   "id": "f7ba466e-caf0-4952-8852-e173db4336e7",
   "metadata": {},
   "outputs": [],
   "source": [
    "from collections import defaultdict\n",
    "import gc\n",
    "from graphlib import TopologicalSorter, CycleError\n",
    "import random\n",
    "from typing import Collection, Any\n",
    "\n",
    "import numpy as np\n",
    "from scipy.sparse.csgraph import breadth_first_order, connected_components\n",
    "\n",
    "from hostess.profilers import analyze_references"
   ]
  },
  {
   "cell_type": "code",
   "execution_count": 53,
   "id": "ede03423-ad35-4514-9a34-969934bd3546",
   "metadata": {},
   "outputs": [],
   "source": [
    "Refrec = dict[str, set]\n",
    "Refgraph = dict[int, Refrec]\n",
    "\n",
    "def blank_refrec() -> Refrec:\n",
    "    return {'referents': set(), 'referrers': set(), 'cycles': set()} \n",
    "\n",
    "def get_refmap(\n",
    "    objects: Collection[Any], \n",
    "    group_only: bool = True, \n",
    "    **analysis_kwargs\n",
    ") -> dict[int, set[int]]:\n",
    "    permit_ids = None if group_only is False else {id(obj) for obj in objects}\n",
    "    for obj in objects:\n",
    "        refnoms = analyze_references(\n",
    "            method=gc.get_referents, \n",
    "            return_objects=False,\n",
    "            permit_ids=permit_ids,\n",
    "            **analysis_kwargs\n",
    "        )\n",
    "        refmap[id(obj)] = {rn[0]['id'] for rn in refnoms}\n",
    "    return refmap\n",
    "\n",
    "def _add_graph_referents(\n",
    "    graph: Refgraph, refmap, delete_reflexive\n",
    ") -> Refgraph:\n",
    "    for objid, refids in refmap.items():\n",
    "        graph[objid]['referents'].update(refids)\n",
    "        if delete_reflexive is True:\n",
    "            graph[objid]['referents'].difference_update({objid})\n",
    "    return graph\n",
    "\n",
    "def _add_graph_referrers(\n",
    "    graph: Refgraph, delete_commutative\n",
    ") -> Refgraph:\n",
    "    # TODO, maybe: we _could_ create this using two-call\n",
    "    #  referent-referrer detection, but that would be expensive and\n",
    "    #  might not add much. assess.\n",
    "    for objid in graph.keys():\n",
    "        for refid in tuple(graph[objid]['referents']):\n",
    "            if objid in graph[refid]['referents']:\n",
    "                if delete_commutative is True:\n",
    "                    graph[refid]['referents'].remove(objid)\n",
    "                    graph[objid]['referents'].remove(refid)\n",
    "                    continue\n",
    "                else:\n",
    "                    graph[refid]['cycles'].add(objid)\n",
    "                    graph[objid]['cycles'].add(refid)\n",
    "            graph[refid]['referrers'].add(objid)\n",
    "    return graph\n",
    "\n",
    "def construct_refgraph(\n",
    "    objects: Collection[Any], \n",
    "    group_only=True,\n",
    "    delete_reflexive=True,\n",
    "    delete_commutative=False,\n",
    "    **analysis_kwargs\n",
    ") -> Refgraph:\n",
    "    # NOTE: we are relying here entirely on what the gc reports. if an\n",
    "    #  object is not tracked, we may want a fallback.\n",
    "    refmap = get_refmap(objects, group_only, **analysis_kwargs)\n",
    "    graph = defaultdict(blank_refrec)\n",
    "    graph = _add_graph_referents(graph, refmap, delete_reflexive)\n",
    "    graph = _add_graph_referrers(graph, delete_commutative)\n",
    "    return dict(graph)\n",
    "    \n",
    "def random_test_refgraph(\n",
    "    n=10, \n",
    "    group_only=True,\n",
    "    delete_reflexive=True,\n",
    "    delete_cyclic=False,\n",
    "    density=1.5\n",
    ") -> Refgraph:\n",
    "    allids = tuple(range(n*10))  # dummy universe of all tracked objects\n",
    "    objids = tuple(range(n))  # objects we care about references between \n",
    "    refmap = {}\n",
    "    for objid in objids:\n",
    "        refmap[objid] = set(random.choices(allids, k=int(density * n)))\n",
    "        if group_only is True:\n",
    "            refmap[objid].intersection_update(objids)\n",
    "    graph = defaultdict(blank_refrec)\n",
    "    graph = _add_graph_referents(graph, refmap, delete_reflexive)\n",
    "    graph = _add_graph_referrers(graph, delete_cyclic)\n",
    "    return dict(graph)\n",
    "\n",
    "def verify_refgraph_directionality(graph: Refgraph) -> bool:\n",
    "    for objid, rec in graph.items():\n",
    "        for refid in rec['referents']:\n",
    "            if objid not in graph[refid]['referrers']:\n",
    "                return False\n",
    "    return True"
   ]
  },
  {
   "cell_type": "code",
   "execution_count": 166,
   "id": "8a87da5a-acac-40dd-88cf-7a573b4bcf6c",
   "metadata": {},
   "outputs": [],
   "source": [
    "def refgraph_array(graph: Refgraph) -> np.ndarray:\n",
    "    grapharray = np.zeros(\n",
    "        (len(graph), len(graph)), dtype=np.uint16\n",
    "    )\n",
    "    for i, rec in enumerate(graph.values()):\n",
    "        for j in rec['referents']:\n",
    "            grapharray[i, j] = 1\n",
    "    return grapharray\n",
    "\n",
    "def refgraph_to_topdict(graph: Refgraph) -> dict[int, set]:\n",
    "    return {id_: rec['referrers'] for id_, rec in graph.items()}\n",
    "\n",
    "def refgraph_to_topsort(graph: Refgraph) -> TopologicalSorter:\n",
    "    return TopologicalSorter(refgraph_to_topdict(graph))\n",
    "\n",
    "def oksort(graph: np.ndarray) -> np.ndarray:\n",
    "    \"\"\"\n",
    "    provide a sorting for a directed graph expressed as an array. \n",
    "    the graph need not be acyclic or connected. this is not \n",
    "    guaranteed to be an _optimal_ 'topological-esque' sorting, but is \n",
    "    guaranteed to not be the _worst_ 'topological-esque' sorting.\n",
    "    internally-connected groups of nodes will always appear in sequence \n",
    "    in the final sorting; the way in which these groups are ordered\n",
    "    is arbitrary.\n",
    "    \"\"\"\n",
    "    sorting = []\n",
    "    # sort each internally-connected cluster individually.\n",
    "    # note that each cluster is wholly disconnected from \n",
    "    # each other cluster.\n",
    "    _, labels = connected_components(graph)\n",
    "    for label in np.unique(labels):\n",
    "        cluster = np.nonzero(labels==label)[0]\n",
    "        # check nodes in order of number of referents\n",
    "        # until we run out of unwalked nodes\n",
    "        refgroups = defaultdict(set)\n",
    "        for node, count in zip(\n",
    "            cluster, graph[cluster].sum(axis=1)\n",
    "        ):\n",
    "            refgroups[count].add(node)\n",
    "        refgroups = list(refgroups.values())\n",
    "        levels = {}\n",
    "        while len(levels) < len(cluster):\n",
    "            start = refgroups[-1].pop()\n",
    "            walk = breadth_first_order(\n",
    "                graph, start, return_predecessors=False\n",
    "            )\n",
    "            i = 0\n",
    "            for node in walk:\n",
    "                if node in levels.keys():\n",
    "                    continue\n",
    "                levels[node], i = i, i + 1\n",
    "            if len(refgroups[-1]) == 0:\n",
    "                refgroups.pop()\n",
    "        # then, sort the nodes of the cluster by the position \n",
    "        # in which they first appear in any traversal; this is\n",
    "        # an ordering for this set of connected nodes.\n",
    "        sorting.append(\n",
    "            sorted(levels.keys(), key=lambda k: levels[k])\n",
    "        )\n",
    "    # final ordering is the concatenation of the orderings of each\n",
    "    # set of connected nodes.\n",
    "    return tuple(np.concatenate(sorting))"
   ]
  },
  {
   "cell_type": "code",
   "execution_count": 273,
   "id": "4f034487-1e54-4b06-9da7-14a12ae3f561",
   "metadata": {},
   "outputs": [
    {
     "name": "stdout",
     "output_type": "stream",
     "text": [
      "0 succeeds 8 but 8 is its referent\n",
      "9 succeeds 8 but 8 is its referent\n",
      "5 succeeds 4 but 4 is its referent\n"
     ]
    }
   ],
   "source": [
    "gdict = random_test_refgraph(n=12, density=0.5)\n",
    "sorter = refgraph_to_topsort(gdict)\n",
    "try:\n",
    "    top_sorting = tuple(sorter.static_order()) \n",
    "    # print(top_sorting)\n",
    "except CycleError:\n",
    "    top_sorting =None\n",
    "    print('cyclic; no topological sort')\n",
    "garray = refgraph_array(gdict)\n",
    "ok_sorting = oksort(garray)\n",
    "for index, node in enumerate(ok_sorting):\n",
    "    for subsequent in ok_sorting[index + 1 :]:\n",
    "        if node in gdict[subsequent]['referents']:\n",
    "            print(f\"{subsequent} succeeds {node} but {node} is its referent\")"
   ]
  },
  {
   "cell_type": "code",
   "execution_count": 274,
   "id": "5d11b957-b1f4-4a05-b771-3d40cc37fa00",
   "metadata": {},
   "outputs": [
    {
     "data": {
      "text/plain": [
       "(8, 0, 11, 9, 1, 7, 6, 2, 4, 3, 5, 10)"
      ]
     },
     "execution_count": 274,
     "metadata": {},
     "output_type": "execute_result"
    }
   ],
   "source": [
    "ok_sorting"
   ]
  },
  {
   "cell_type": "code",
   "execution_count": 275,
   "id": "50700edc-298e-4d88-a857-117941a2ec93",
   "metadata": {},
   "outputs": [
    {
     "data": {
      "text/plain": [
       "{0: {'referents': {8}, 'referrers': set(), 'cycles': set()},\n",
       " 1: {'referents': {6}, 'referrers': {8}, 'cycles': set()},\n",
       " 2: {'referents': set(), 'referrers': set(), 'cycles': set()},\n",
       " 3: {'referents': {5}, 'referrers': set(), 'cycles': set()},\n",
       " 4: {'referents': set(), 'referrers': {5}, 'cycles': set()},\n",
       " 5: {'referents': {4}, 'referrers': {3}, 'cycles': set()},\n",
       " 6: {'referents': set(), 'referrers': {1}, 'cycles': set()},\n",
       " 7: {'referents': set(), 'referrers': {8, 11}, 'cycles': set()},\n",
       " 8: {'referents': {1, 7}, 'referrers': {0, 9}, 'cycles': set()},\n",
       " 9: {'referents': {8}, 'referrers': set(), 'cycles': set()},\n",
       " 10: {'referents': set(), 'referrers': set(), 'cycles': set()},\n",
       " 11: {'referents': {7}, 'referrers': set(), 'cycles': set()}}"
      ]
     },
     "execution_count": 275,
     "metadata": {},
     "output_type": "execute_result"
    }
   ],
   "source": [
    "gdict"
   ]
  },
  {
   "cell_type": "code",
   "execution_count": null,
   "id": "127ff50d-312b-473e-8b2a-14bd2a7903d6",
   "metadata": {},
   "outputs": [],
   "source": [
    "ok"
   ]
  },
  {
   "cell_type": "code",
   "execution_count": null,
   "id": "e81b412a-b1cb-4839-80e1-d3d6f8e5f2fc",
   "metadata": {},
   "outputs": [],
   "source": [
    "csgraph.breadth_first_order(garray, 3, return_predecessors=False)"
   ]
  },
  {
   "cell_type": "code",
   "execution_count": null,
   "id": "1bc0d784-4dec-44af-82f2-c034a6dd69d0",
   "metadata": {},
   "outputs": [],
   "source": [
    "garray = np.array([[0,1,1],[0,0,0],[0,0,0]])\n",
    "csgraph.breadth_first_order(garray, 2)"
   ]
  },
  {
   "cell_type": "code",
   "execution_count": null,
   "id": "05143c7d-6730-4b61-a287-fd8da9f29b8c",
   "metadata": {},
   "outputs": [],
   "source": [
    "a = [1, 2]\n",
    "b = [1, a]\n",
    "b in gc.get_referrers(a)"
   ]
  },
  {
   "cell_type": "code",
   "execution_count": null,
   "id": "a550e67f-cb9f-4007-80ce-aef2ba0f23ce",
   "metadata": {},
   "outputs": [],
   "source": [
    "# NOTE: we want to be able to place objects that refer to others first, \n",
    "# so that we do not replace containing objects with corrupt doppelgangers\n",
    "# before checking _all_ their top-level objects.\n",
    "def sort_refgraph(graph: dict[int, dict[str, set]]) -> list[int]:\n",
    "    \"\"\"\n",
    "    provide a sorting for the elements of an acyclic graph such that no \n",
    "    element precedes an element that refers to it. \n",
    "    \n",
    "    note that because this graph is not guaranteed to be either\n",
    "    directed or connected, its edges do _not_ provide a total ordering.\n",
    "    this means that the output of this function will satisfy the above \n",
    "    criterion but may vary based on the order of elements passed to it.\n",
    "    \"\"\"\n",
    "    # TODO: evaluate efficiency. note that classical sorting algorithms\n",
    "    #  don't tend to work well on partial orderings...\n",
    "    n = 1\n",
    "    seq = list(graph.keys()).copy()\n",
    "    is_sorted = False\n",
    "    indices = tuple(range(len(graph)))\n",
    "    while is_sorted is False:\n",
    "        # print(f\"\\n\\n---cycle {n}---\")\n",
    "        is_sorted = True\n",
    "        for key in seq:\n",
    "            allowable_positions = []\n",
    "            for j in indices[indices.index(key) + 1:]:\n",
    "                ref = seq[j]\n",
    "                if key in graph[ref]['referents']:\n",
    "                    is_sorted = False\n",
    "                    continue\n",
    "                allowable_positions.append(j)\n",
    "            if allowable_positions == []:\n",
    "                swap_position = indices[-1]\n",
    "            else:\n",
    "                swap_position = allowable_positions[-1]\n",
    "            left = seq[:swap_position]\n",
    "            right = seq[swap_position + 1:]\n",
    "            print(key, seq[swap_position], allowable_positions)\n",
    "            seq = left + [key] + right\n",
    "    return seq"
   ]
  },
  {
   "cell_type": "code",
   "execution_count": null,
   "id": "24e8ab37-b04b-403f-8160-4c4849f83f35",
   "metadata": {},
   "outputs": [],
   "source": [
    "left, right = set(), set()\n",
    "seq = list(testgraph.keys())\n",
    "key = seq[0]\n",
    "for ref in seq:\n",
    "    if ref == key:\n",
    "        continue\n",
    "    if key in testgraph[ref]['referents']:\n",
    "        left.add(ref)\n",
    "    else:\n",
    "        right.add(ref)"
   ]
  },
  {
   "cell_type": "code",
   "execution_count": null,
   "id": "0a4219d5-e05b-47e6-8a65-bd1af43b2d63",
   "metadata": {},
   "outputs": [],
   "source": [
    "keys = list(testgraph.keys())\n",
    "key = keys[0]\n",
    "left = testgraph[key]['referrers']\n",
    "right = testgraph[key]['referents']\n",
    "center = set(keys).difference(left.union(right))"
   ]
  },
  {
   "cell_type": "code",
   "execution_count": null,
   "id": "d2e8d768-3b17-4a33-aeac-4ab2917d59fd",
   "metadata": {},
   "outputs": [],
   "source": [
    "left"
   ]
  },
  {
   "cell_type": "code",
   "execution_count": null,
   "id": "e07dcbcc-640f-4507-ba8c-f2016d3765e7",
   "metadata": {},
   "outputs": [],
   "source": [
    "right"
   ]
  },
  {
   "cell_type": "code",
   "execution_count": null,
   "id": "252d4208-4db8-4962-aa3e-011d59b258ab",
   "metadata": {},
   "outputs": [],
   "source": [
    "center"
   ]
  },
  {
   "cell_type": "code",
   "execution_count": null,
   "id": "58f934da-d5f1-4a7b-826f-57b41704b818",
   "metadata": {},
   "outputs": [],
   "source": [
    "testgraph"
   ]
  },
  {
   "cell_type": "code",
   "execution_count": null,
   "id": "c3521f89-4f3d-473b-9dcd-b6a722bc51a6",
   "metadata": {},
   "outputs": [],
   "source": [
    "sorted(testgraph, key=lambda i, j: testgraph[i] in testgraph[j]['referrers'])"
   ]
  },
  {
   "cell_type": "code",
   "execution_count": null,
   "id": "b24a9ce6-e0a7-446c-8d6f-37da1596a4b7",
   "metadata": {},
   "outputs": [],
   "source": [
    "testgraph = random_test_refgraph(n=8, density=3, delete_cyclic=True)\n",
    "t_refgraph_reflexivity(testgraph)\n",
    "sorting = sort_refgraph(testgraph)\n",
    "# TEST:\n",
    "bad = {}\n",
    "for i, objid in enumerate(sorting):\n",
    "    for refid in sorting[i + 1:]:\n",
    "        if objid in testgraph[refid]['referents']:\n",
    "            bad[objid] = testgraph[objid]\n",
    "            bad[refid] = testgraph[refid]\n",
    "bad"
   ]
  },
  {
   "cell_type": "code",
   "execution_count": null,
   "id": "7e17a4e7-7674-45e8-a873-924f8ad89bdd",
   "metadata": {},
   "outputs": [],
   "source": [
    "sorting"
   ]
  },
  {
   "cell_type": "code",
   "execution_count": null,
   "id": "845ed1f6-659e-4653-85a5-7fcb7e170443",
   "metadata": {},
   "outputs": [],
   "source": [
    "bad"
   ]
  },
  {
   "cell_type": "code",
   "execution_count": null,
   "id": "ab1a6a58-051d-47be-863b-59e9a8843da8",
   "metadata": {},
   "outputs": [],
   "source": [
    "%debug"
   ]
  },
  {
   "cell_type": "code",
   "execution_count": null,
   "id": "2cdf50e7-196f-47eb-99cd-d475902542f9",
   "metadata": {},
   "outputs": [],
   "source": [
    "testgraph[5]"
   ]
  },
  {
   "cell_type": "code",
   "execution_count": null,
   "id": "4e9eab08-5117-4fd2-b339-a48779d14321",
   "metadata": {},
   "outputs": [],
   "source": [
    "5 in testgraph[7]['referrers']"
   ]
  },
  {
   "cell_type": "code",
   "execution_count": null,
   "id": "d3721d3c-d19e-4212-a1aa-656900f8ed5b",
   "metadata": {},
   "outputs": [],
   "source": [
    "testgraph[7]"
   ]
  },
  {
   "cell_type": "code",
   "execution_count": null,
   "id": "28998356-3ecb-480a-8144-7a0412d2a0bf",
   "metadata": {},
   "outputs": [],
   "source": [
    "{ref: refgraph[ref] for ref in refsorted}"
   ]
  },
  {
   "cell_type": "code",
   "execution_count": null,
   "id": "8342bac3-ebb2-400e-85f1-45e18fbd5374",
   "metadata": {},
   "outputs": [],
   "source": []
  },
  {
   "cell_type": "code",
   "execution_count": null,
   "id": "1e5df0cc-d0a1-4456-9710-f7a9b066df2a",
   "metadata": {},
   "outputs": [],
   "source": [
    "refgraph"
   ]
  },
  {
   "cell_type": "code",
   "execution_count": null,
   "id": "4bbf9803-0535-4ba6-826c-0a8855e5bf4a",
   "metadata": {},
   "outputs": [],
   "source": []
  }
 ],
 "metadata": {
  "kernelspec": {
   "display_name": "Python 3 (ipykernel)",
   "language": "python",
   "name": "python3"
  },
  "language_info": {
   "codemirror_mode": {
    "name": "ipython",
    "version": 3
   },
   "file_extension": ".py",
   "mimetype": "text/x-python",
   "name": "python",
   "nbconvert_exporter": "python",
   "pygments_lexer": "ipython3",
   "version": "3.11.5"
  }
 },
 "nbformat": 4,
 "nbformat_minor": 5
}
