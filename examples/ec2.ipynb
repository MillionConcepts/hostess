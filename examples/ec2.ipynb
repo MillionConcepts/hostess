{
 "cells": [
  {
   "cell_type": "markdown",
   "id": "30f37b56-2b52-4382-93b3-0aa86ffad42b",
   "metadata": {},
   "source": [
    "# examples for `hostess.aws.ec2`\n",
    "\n",
    "### introduction\n",
    "\n",
    "`hostess.aws.ec2` is a collection of utilities for working with EC2 instances.\n",
    "\n",
    "`Instance` and `Cluster` are its centerpiece classes. They are abstractions for, \n",
    "respectively, single EC2 instances and groups of EC2 instances. By offering both\n",
    "managed interaction with the EC2 API and a rich set of remote procedure call (RPC)\n",
    "capabilities, they attempt to make distributed workflows as conceptually simple and \n",
    "immediate as local ones. \n",
    "\n",
    "### requirements\n",
    "\n",
    "1.  You need appropriate AWS permissions to perform any actions that call the\n",
    "    EC2 API. You cannot, for instance, use `ls_instances()` without the ListInstances\n",
    "    permission, or `Instance.start()` without StartInstances permission for the\n",
    "    particular instance you are attempting to start. (A complete discussion of AWS\n",
    "    permissions management is beyond the scope of this document.)\n",
    "\n",
    "    By default, `hostess` uses the 'default' profile from ~/.aws/credentials.\n",
    "    This can be modified in `hostess.config.user_config` or by manually constructing\n",
    "    a client with `hostess.aws.utils.init_client`. \n",
    "\n",
    "    If you are in a situation where you have SSH access to, but not AWS permissions for, \n",
    "    an EC2 instance you'd like to make `hostess` RPCs on, you should ignore the fact that\n",
    "    it is an EC2 instance and simply use `hostess.ssh.SSH`, which underlies the RPC\n",
    "    capabilities of this module.\n",
    "    \n",
    "3. The RPC functionality offered by this module relies on SSH, so you need SSH access to an\n",
    "   instance to make RPCs on it. Specifically:\n",
    "   \n",
    "    1. The inbound traffic rules of the instance's security group must permit SSH access\n",
    "       from your IP. (If you create a security group with `hostess`, it will set this up\n",
    "       automatically.)\n",
    "    2. `hostess` supports only keyfile-based authentication, so you must have the correct\n",
    "      keyfile for the instance, and `hostess` must be able to find it. If it shares a\n",
    "      filename with the key name known to AWS and is in your `~/.ssh` folder, `hostess`\n",
    "      will find it automatically. If this is not the case, you can manually specify a\n",
    "      path to the keyfile when constructing an `Instance` or `Cluster`. You can also change\n",
    "      the default search paths in `hostess.config.user_config`. (If you create a security\n",
    "      group with `hostess`, it will also generate a compatible keyfile and save it into\n",
    "      your `~/.ssh` folder.) \n",
    "    3. The instance must be running `sshd` and configured to accept incoming connections.\n",
    "      You generally will not have to do anything special to set this up: the default\n",
    "      configuration of most stock AMIs, including the Ubuntu and Amazon Linux images, is\n",
    "      suitable.\n",
    "\n",
    "   *note: if you want to create remote workflows without relying on SSH connections, we recommend\n",
    "   looking at the `hostess.station` framework.* \n",
    "\n",
    "\n",
    "### note and caveat\n",
    "\n",
    "This tutorial will walk you through the creation of several EC2 instances and\n",
    "associated EBS volumes. This will incur costs attached to your AWS credentials.\n",
    "If this tutorial is run without modification, the total costs should be very \n",
    "small (approximately 11 cents). However, if this \n",
    "is unacceptable to you or makes you uncomfortable, you should proceed with \n",
    "caution or not at all. We (the authors of `hostess`) disclaim responsibility. \n",
    "(See the appendix for a breakdown of estimated costs.)\n",
    "\n",
    "### relationship to `boto3`\n",
    "\n",
    "`aws.ec2.Instance` is designed to be easier to use, more Pythonic, and more powerful than `boto3`'s \n",
    "`Instance` abstraction. However, it does not implement high-level interfaces for the entirety \n",
    "of the EC2 API. Because it works partly by wrapping parts of `boto3`, however, every `aws.ec2.Instance` \n",
    "also grants access to a `boto3` `Instance` object with a shared AWS configuration. If \n",
    "you need access to other parts of the EC2 API inside a `hostess` workflow, you can access this object\n",
    "via the `aws.ec2.Instance.instance_` attribute."
   ]
  },
  {
   "cell_type": "markdown",
   "id": "1018709d-ff3a-49fb-95ff-f52115c83c37",
   "metadata": {},
   "source": [
    "## 1. launching instances\n",
    "\n",
    "`Instance` can be used both to work with existing instances and launch new ones.\n",
    "In this section, we'll launch an instance to work with in subsequent sections.\n",
    "We should discuss some preliminaries first.\n",
    "\n",
    "**IMPORTANT**: `hostess` performs no automated instance lifecycle management\n",
    "due to its potential to cause process disruption and unintended data loss. \n",
    "If you want to stop or terminate an instance, you must do so explicitly,\n",
    "using methods of the `Instance` object, other interfaces to the EC2 API, shutdown\n",
    "commands on the instance itself, or the EC2 web console. \n",
    "\n",
    "### 1.1. instance configuration\n",
    "\n",
    "#### launch templates\n",
    "\n",
    "Although it's not mandatory, the easiest and cleanest way to launch instances with \n",
    "`hostess` is to use an existing launch template and give `Instance.launch()` the name\n",
    "of the template.\n",
    "(On the backend, this is because the API requires a launch template to launch an \n",
    "instance, and reusing the same launch template helps ensure consistent behavior).\n",
    "You can create a launch template using `aws.ec2.create_launch_template()`, \n",
    "other interfaces to the EC2 API, or the EC2 web console. \n",
    "**TODO: template parameter overrides are a planned feature. update this when finished.** \n",
    "\n",
    "If you don't do this, `hostess` just creates a 'scratch' template to launch the \n",
    "instance and deletes it immediately after launch (whether successful or failed).\n",
    "\n",
    "#### defaults\n",
    "\n",
    "The EC2 API requires explicit specification of a lot of parameters to launch an instance.\n",
    "`hostess` wants to make it easy to launch instances, so if you don't explicitly\n",
    "specify some or all of these parameters, it populates them with sensible\n",
    "defaults. You can override the following defaults in `hostess.aws.config.user_config`:\n",
    "* instance_type (instance type, like 't3a.micro')\n",
    "* volume_type (root EBS volume type, like 'gp3')\n",
    "* volume_size (root EBS volume size in GB)\n",
    "\n",
    "**TODO: complete description of valid `options`**\n",
    "\n",
    "A couple of default behaviors are worth special consideration:\n",
    "\n",
    "* If you don't specify a security group, either in a launch template or\n",
    "  the 'security_group_name' item of `options`, `hostess` acts like\n",
    "  the EC2 web console's launch wizard and creates a new\n",
    "  security group.\n",
    "  * These auto-generated security groups are named 'hostess-'\n",
    "    followed by 10 random lowercase letters. They permit all outgoing traffic\n",
    "    from their members, and permit incoming traffic on:\n",
    "    * the standard SSH port (22) from your current IP\n",
    "    * any port from other AWS resources in the same security group.\n",
    "  * this also generates an SSH keyfile and saves it to your ~/.ssh folder. Its\n",
    "    filename is the same as the name of its associated security group.\n",
    "  * `hostess` does **not** provide automated lifecycle management for these security\n",
    "    groups (this is because deleting security groups associated with running\n",
    "    instances is impossible, and deleting security groups associated with stopped\n",
    "    instances can make them unusable).\n",
    "    This has the same issue as the EC2 launch wizard: it can leave your account\n",
    "    cluttered with old security groups, which are harmless but unsightly. It can\n",
    "    also leave your .ssh folder confusingly cluttered with keyfiles. It's\n",
    "    better to reuse existing security groups.\n",
    "* If you don't specify an Amazon Machine Image (AMI), either in a launch template\n",
    "  or in the 'image_id' item of `options`, `hostess` uses the most recent\n",
    "  Ubuntu Server LTS AMI.\n",
    "\n",
    "### 1.2. executing `Instance.launch()`\n",
    "\n",
    "The `hostess` defaults are permissive enough that you can make a new instance\n",
    "with default configuration simply by calling `Instance.launch()` with no arguments. \n",
    "However, we'll show a preferred workflow here."
   ]
  },
  {
   "cell_type": "code",
   "execution_count": null,
   "id": "e81876ed-bd9f-4f11-a2a3-d5273970dd84",
   "metadata": {},
   "outputs": [],
   "source": [
    "# first, create a reusable launch template with a few non-default options:\n",
    "from hostess.aws.ec2 import create_launch_template\n",
    "\n",
    "response = create_launch_template(\n",
    "    template_name='kitty',\n",
    "    # a cheap burstable instance\n",
    "    instance_type='t3a.micro',\n",
    "    volume_size=9,\n",
    "    # gp3 volumes typically have better sustained performance, and hostess\n",
    "    # defaults to gp3. However, gp2 volumes tend to have better initial \n",
    "    # startup and shutdown times, so they're better for a quick demo.\n",
    "    volume_type='gp2',\n",
    "    instance_name='kitty',\n",
    "    tags={'BillCode': 'Customer5', 'Project': 'ADMIN'}\n",
    ")\n",
    "\n",
    "# note that you can't have multiple templates with the same name.\n",
    "# if you happen to have run this cell previously and want to create a \n",
    "# new 'kitty' template with different settings, you'll need to delete\n",
    "# the former template, like: \n",
    "# from hostess.aws.ec2 import init_client\n",
    "# init_client('ec2').delete_launch_template(LaunchTemplateName='kitty')"
   ]
  },
  {
   "cell_type": "code",
   "execution_count": null,
   "id": "01c4aad0-c82a-44cb-b7e6-06312103b72f",
   "metadata": {},
   "outputs": [],
   "source": [
    "# now launch an instance using the template. you can specify the 'kitty' \n",
    "# template in subsequent launches to create identically-configured instances \n",
    "# in the same security group.\n",
    "\n",
    "from hostess.aws.ec2 import Instance\n",
    "\n",
    "# We're passing connect=True here to make sure the instance is fully\n",
    "# booted up before we send the stop instruction in the next section --\n",
    "# if you send a stop instruction to a booting instance, it can take\n",
    "# a really long time to stop.\n",
    "kitty = Instance.launch(template='kitty', connect=True)"
   ]
  },
  {
   "cell_type": "markdown",
   "id": "069e8a42-1cff-4720-bddc-cd1fac5cfe25",
   "metadata": {},
   "source": [
    "## 2. listing and finding instances\n",
    "\n",
    "If you have ever used the `awscli` command `aws ec2 describe-instances` to try to find\n",
    "an EC2 instance, you may have noticed that although its output is very complete, it is\n",
    "extremely verbose, deeply nested, and hard to parse. Its filtering options are also \n",
    "somewhat difficult to use. `hostess`'s `ls_instances()` is a much more lightweight \n",
    "alternative that is equally suitable for most use cases."
   ]
  },
  {
   "cell_type": "code",
   "execution_count": null,
   "id": "bdadf3d8-f5ff-45ae-be09-d12f80ec2597",
   "metadata": {},
   "outputs": [],
   "source": [
    "# if you simply call `ls_instances()` with no arguments, it will return a tuple\n",
    "# of dicts giving essential information about all your running, pending, stopping,\n",
    "# or stopped instances:\n",
    "# name (if any); public ip (if any); instance id; state (running, \n",
    "# pending, stopped, terminated); private ip (if any), and keyname (if any). \n",
    "from hostess.aws.ec2 import ls_instances\n",
    "\n",
    "instance_info = ls_instances()\n",
    "instance_info[0:2]"
   ]
  },
  {
   "cell_type": "code",
   "execution_count": null,
   "id": "24d02b9c-5afa-415c-92e9-5c3f3fd809da",
   "metadata": {},
   "outputs": [],
   "source": [
    "# ls_instances() offers a variety of ways to filter your search.\n",
    "# see the docstring for a full set of options; we'll just describe\n",
    "# one here. ls_instances() understands arbitrary keywords arguments \n",
    "# as case-insensitive tag filters. \n",
    "# if you have a single instance named 'kitty', you can find it with:\n",
    "ls_instances(name='kitty')[0]"
   ]
  },
  {
   "cell_type": "code",
   "execution_count": 1,
   "id": "0febb34c-d03b-43a4-95ec-3c63671e32f9",
   "metadata": {},
   "outputs": [
    {
     "ename": "NameError",
     "evalue": "name 'ls_instances' is not defined",
     "output_type": "error",
     "traceback": [
      "\u001b[0;31m---------------------------------------------------------------------------\u001b[0m",
      "\u001b[0;31mNameError\u001b[0m                                 Traceback (most recent call last)",
      "Cell \u001b[0;32mIn[1], line 4\u001b[0m\n\u001b[1;32m      1\u001b[0m \u001b[38;5;66;03m# this feature also supports optional regex matching. These don't exist,\u001b[39;00m\n\u001b[1;32m      2\u001b[0m \u001b[38;5;66;03m# so this won't actually work, but if you had a \u001b[39;00m\n\u001b[1;32m      3\u001b[0m \u001b[38;5;66;03m# set of instances named 'pipeline_1', 'pipeline_2', etc.:\u001b[39;00m\n\u001b[0;32m----> 4\u001b[0m \u001b[43mls_instances\u001b[49m(name\u001b[38;5;241m=\u001b[39m\u001b[38;5;124mr\u001b[39m\u001b[38;5;124m'\u001b[39m\u001b[38;5;124mpipeline_\u001b[39m\u001b[38;5;124m\\\u001b[39m\u001b[38;5;124md\u001b[39m\u001b[38;5;124m'\u001b[39m, tag_regex\u001b[38;5;241m=\u001b[39m\u001b[38;5;28;01mTrue\u001b[39;00m)\n",
      "\u001b[0;31mNameError\u001b[0m: name 'ls_instances' is not defined"
     ]
    }
   ],
   "source": [
    "# this feature also supports optional regex matching. These don't exist,\n",
    "# so this won't actually work, but if you had a \n",
    "# set of instances named 'pipeline_1', 'pipeline_2', etc.:\n",
    "ls_instances(name=r'pipeline_\\d', tag_regex=True)"
   ]
  },
  {
   "cell_type": "markdown",
   "id": "a007e536-c54f-4100-9966-396db26d1aaa",
   "metadata": {},
   "source": [
    "# 3. controlling instance state\n",
    "\n",
    "Instance has several methods to control an instance's activation state:\n",
    "* `start()` boots the instance.\n",
    "* `stop()` shuts the instance down.\n",
    "* `restart()` shuts the instance down, waits for complete shutdown, and boots it again.\n",
    "* `terminate()` terminates the instance.\n",
    "    **--IMPORTANT--**: this permanently and irrevocably deletes an instance and, unless it's\n",
    "    specifically configured otherwise, its root volume. `hostess` trusts that you know\n",
    "    what you're doing, so `terminate()` doesn't have any special guardrails.\n",
    "    `Instance.terminate()` is like `sudo rm -rf`: don't even type it unless you really mean it!\n",
    "\n",
    "#### notes:\n",
    "* These methods don't do anything if the instance is already in (or transitioning to) the requested state.\n",
    "* `start()`, `stop()`, and `restart()` will raise exceptions on terminated instances.\n",
    "* `Instance()` also has `wait_until_running()`, `wait_until_stopped()`, and\n",
    "  `wait_until_terminated()` methods, which block until the instance reaches the specified state. "
   ]
  },
  {
   "cell_type": "code",
   "execution_count": null,
   "id": "dc6f930c-aa25-4855-bf75-5365ed134e90",
   "metadata": {},
   "outputs": [],
   "source": [
    "# for the sake of demonstration in the next section, shut the 'kitty'\n",
    "# instance down and delete the Instance object from the namespace. \n",
    "# note that deleting the Instance object does _not_ terminate the actual \n",
    "# instance; you'll need to terminate it later if you don't want it to \n",
    "# hang around in your account.\n",
    "kitty.stop()\n",
    "# wait until kitty fully shuts down. may take a few minutes.\n",
    "kitty.wait_until_stopped() \n",
    "del kitty"
   ]
  },
  {
   "cell_type": "markdown",
   "id": "eb6e0134-5260-4b15-b963-e88c1bf73bfe",
   "metadata": {},
   "source": [
    "## 4. connecting to an existing instance\n",
    " \n",
    "`Instance` can connect to an existing instance even\n",
    "more easily than it can launch a new one.\n",
    "\n",
    "The only required argument to the `Instance` constructor is an\n",
    "identifier for the EC2 instance you'd like to work with. There are three\n",
    "acceptable types of identifier:\n",
    "\n",
    "* a connectable IP address for the instance, like `\"102.31.4.129\"`\n",
    "* the AWS instance identifier, like `\"i-0868ad3eeebe16cde\"`\n",
    "* one of the `dicts` returned by `ls_instances()`\n",
    "\n",
    "*note: if you're connecting to an instance from another EC2 instance, \n",
    "pass `use_private_ip=True` to the `Instance` constructor, and if \n",
    "you're using an IP address as the identifier in this case, make sure\n",
    "it's the private IP.*"
   ]
  },
  {
   "cell_type": "code",
   "execution_count": null,
   "id": "c36229d3-7b68-4a3e-bc8a-9a18845d7060",
   "metadata": {},
   "outputs": [],
   "source": [
    "# kitty exists, but is stopped, and we don't have an Instance object\n",
    "# for it. we can find kitty and construct a new Instance for it\n",
    "# using Instance along with ls_instances():\n",
    "from hostess.aws.ec2 import Instance, ls_instances\n",
    "\n",
    "kitty = Instance(ls_instances(name='kitty')[0])\n",
    "\n",
    "# the string representation of an Instance gives its name (if any),\n",
    "# its instance id, its instance type, its EC2 subnet, and its IP address\n",
    "# (if it has one, which it generally won't if it's not running). \n",
    "print(kitty)\n",
    "\n",
    "# Instance also has a number of 'basic information' attributes, like::\n",
    "print(\n",
    "    f\"the instance is {kitty.state}, named '{kitty.name}', \"\n",
    "    f\"and has the following tags:\\n{kitty.tags}\"\n",
    ")"
   ]
  },
  {
   "cell_type": "code",
   "execution_count": null,
   "id": "29358220-91e9-4eb3-8a9a-eefce6f73c6e",
   "metadata": {},
   "outputs": [],
   "source": [
    "# let's boot kitty back up so we can use it.\n",
    "# it can take a minute or two for an instance, especially a little \n",
    "# instance like kitty, to launch its SSH daemon after it boots. \n",
    "# connect=True makes start() block until you can establish an SSH\n",
    "# connection to the instance -- here, we're doing this to ensure\n",
    "# that we'll be able to run commands in the next section.\n",
    "kitty.start(connect=True)\n",
    "\n",
    "# now it's got an ip!\n",
    "kitty"
   ]
  },
  {
   "cell_type": "markdown",
   "id": "961c2e85-5bb2-455c-a647-208001eefc8f",
   "metadata": {},
   "source": [
    "## 5. remote procedure calls\n",
    "\n",
    "`Instance` supports two main types of remote procedure calls (RPCs):\n",
    "\n",
    "* shell commands\n",
    "* Python function calls\n",
    "\n",
    "### 5.1. shell commands\n",
    "\n",
    "With `Instance`, you can run commands as if you were logged \n",
    "into the instance and work with the output of those commands in Python. \n",
    "`Instance` has three primary methods for this. They are all highly \n",
    "configurable, and we don't discuss all their options here. See the \n",
    "documentation for `hostess.subutils.RunCommand` and \n",
    "`hostess.subutils.Viewer` for a full description of options.\n",
    "\n",
    "* `command()` runs a command in the remote user's default login shell.\n",
    "  you can pass a command as a literal string, or construct it from\n",
    "  Python arguments (examples below). By default it runs the command\n",
    "  asynchronously and returns a `hostess.subutils.Viewer` object you\n",
    "  can use to inspect or terminate the process. \n",
    "* `con()` simulates the experience of typing a command into a console\n",
    "  and looking at its output. It blocks until the process exits and\n",
    "  pretty-prints any output from the process.\n",
    "    * This means that if you run a command that never exits, like\n",
    "    `'while sleep 1; do uptime; done'`, `con()` will block until\n",
    "    it is interrupted or the connection is severed. \n",
    "    * `con()` prints \"^C\" on `KeyboardInterrupt` rather than raising\n",
    "    the exception.\n",
    "* `commands()` provides syntactic sugar for constructing list commands.\n",
    "  \n",
    "*note: `hostess` only fully supports `bash`. some functionality may not work in other shells.*"
   ]
  },
  {
   "cell_type": "code",
   "execution_count": null,
   "id": "effd6dee-d2de-41f8-b9be-68de09999a3f",
   "metadata": {},
   "outputs": [],
   "source": [
    "# get the full UNIX name information for the instance.\n",
    "# `hostess` interprets the a=True argument as a shell \n",
    "# switch; this is equivalent to kitty.command('uname -a').\n",
    "uname = kitty.command('uname', a=True)\n",
    "\n",
    "# because Instance.command() runs asynchronously by default,\n",
    "# it's unlikely that you'll get any output in the microseconds\n",
    "# it takes to get to this next line. you'll probably just see \n",
    "# that 'uname' is a Viewer for a running 'uname -a' process. \n",
    "uname"
   ]
  },
  {
   "cell_type": "code",
   "execution_count": null,
   "id": "a09ec8a9-dbab-4488-ad8f-4ca213e00aeb",
   "metadata": {},
   "outputs": [],
   "source": [
    "# it'll probably have completed by the time you execute\n",
    "# this cell, though (and if not, just run the cell again).\n",
    "uname"
   ]
  },
  {
   "cell_type": "code",
   "execution_count": null,
   "id": "79b0571b-f75b-4693-894f-30d8a3b98dd3",
   "metadata": {},
   "outputs": [],
   "source": [
    "# if you want a more streamlined way to look at the output of a command,\n",
    "# try Instance.con(). blocks until process exit and iteratively \n",
    "# pretty-prints its stdout and stderr (stderr in red).\n",
    "# It's intended to give the feel of running a command in a console.\n",
    "# IMPORTANT: by default, in order to keep things nice and light, con() \n",
    "# does not return anything. If you need to use the results of the command \n",
    "# in subsequent code, pass _return_viewer=True.\n",
    "\n",
    "# to pretty-print all active TCP connections, timestamped, twice:\n",
    "kitty.con(\"date; ss -t ; sleep 1; date ; ss -t\")"
   ]
  },
  {
   "cell_type": "code",
   "execution_count": null,
   "id": "022e0727-720b-4c3c-bdec-caa9c14c0da2",
   "metadata": {},
   "outputs": [],
   "source": [
    "# if you'd like to ensure that a command completes before you move on \n",
    "# to the next part of your code, but don't want it to be loud like con(),\n",
    "# you can call the .wait() method of the returned Viewer object or pass \n",
    "# _wait=True:\n",
    "usage = kitty.command(\"df -h\", _wait=True)\n",
    "print(usage.stdout[0])"
   ]
  },
  {
   "cell_type": "code",
   "execution_count": null,
   "id": "30cca760-dcdb-4c7f-8941-03fe83e7b449",
   "metadata": {},
   "outputs": [],
   "source": [
    "# you can access the stdout and stderr of commands you execute\n",
    "# via the .out and .err attributes of returned Viewers.\n",
    "\n",
    "# these are lists of strings. each element of the lists is an \n",
    "# individual write to stdout/stderr by the remote process. \n",
    "# simple commands that do a thing and exit will generally only have one element, \n",
    "# because they return their output all at once. (this may not be\n",
    "# true in cases in which the output is extremely large, due to SSH \n",
    "# buffering, etc.\n",
    "print(f\"{len(usage.out)} write(s) to stdout\")"
   ]
  },
  {
   "cell_type": "code",
   "execution_count": null,
   "id": "20dee197-0425-478a-946f-ff64c512ba15",
   "metadata": {},
   "outputs": [],
   "source": [
    "# this allows you to use the results of remote shell commands in code.\n",
    "import re\n",
    "import pandas as pd\n",
    "\n",
    "rows = [\n",
    "    re.split(' +', line, maxsplit=5) \n",
    "    for line in usage.out[0].splitlines()\n",
    "]\n",
    "pd.DataFrame(rows[1:], columns=rows[0])"
   ]
  },
  {
   "cell_type": "code",
   "execution_count": null,
   "id": "8e36e787-d92e-4dba-9bd1-b174be528187",
   "metadata": {},
   "outputs": [],
   "source": [
    "# it also allows you to monitor the results of ongoing processes.\n",
    "# a silly example:\n",
    "kitty.command(\"echo 1 > numbers.txt\", _wait=True)\n",
    "tail = kitty.command(\"tail -f numbers.txt\")\n",
    "number = 1\n",
    "while len(tail.out) < 5:\n",
    "    number += 1\n",
    "    kitty.command(f\"echo {number} >> numbers.txt\", _wait=True)\n",
    "    print(tail.out)"
   ]
  },
  {
   "cell_type": "code",
   "execution_count": null,
   "id": "0e6f20f4-0fd2-40b0-92f5-8e7e707b55a9",
   "metadata": {},
   "outputs": [],
   "source": [
    "# it can sometimes be important to do manual cleanup of backgrounded RPCs. \n",
    "# the tail process is still running, even though we're done with it:\n",
    "tail.running"
   ]
  },
  {
   "cell_type": "code",
   "execution_count": null,
   "id": "85accc6f-1124-41de-926b-c9376f028db0",
   "metadata": {},
   "outputs": [],
   "source": [
    "# so you might want to kill it.\n",
    "tail.kill()\n",
    "tail.running"
   ]
  },
  {
   "cell_type": "code",
   "execution_count": null,
   "id": "c1cab0ed-9ca4-469e-9392-f39a248f7e22",
   "metadata": {},
   "outputs": [],
   "source": [
    "# Instance.commands() is an easy way to perform a sequence of commands\n",
    "# without having to enter a monolithic string. a silly example:\n",
    "kitty.commands([\"cd /\", \"ls\"], _wait=True)"
   ]
  },
  {
   "cell_type": "code",
   "execution_count": null,
   "id": "63e32658-238e-4b55-84e0-58c19f11e3ed",
   "metadata": {},
   "outputs": [],
   "source": [
    "# this can be used for serious sysadmin stuff. \n",
    "# a real-world example might look like this:\n",
    "from itertools import chain\n",
    "\n",
    "private_repos = [\"sensitive_devops\", \"proprietary_algos\", \"company_secrets\"]\n",
    "update_commands = chain(\n",
    "    *[\n",
    "        (f\"ssh-add .ssh/{repo}_deploy\", f\"cd {repo}\", \"git pull\", \"cd ~\")\n",
    "        for repo in private_repos\n",
    "    ]\n",
    ")\n",
    "update_result = kitty.commands(\n",
    "    [\"eval `ssh-agent`\", *update_commands], op=\"and\", _wait=True\n",
    ")\n",
    "\n",
    "# this won't actually work, of course, because these are \n",
    "# hypothetical keys and repos, but you get the idea.\n",
    "print(f\"the directories don't really exist:\\n{update_result.err[0]}\")\n",
    "\n",
    "# note that op=\"and\" caused hostess to chain the long sequence of commands\n",
    "# with &&, which is why bash didn't continue after `ssh-add` failed:\n",
    "print(f\"\\nwe tried to run\\n{update_result.command}\")"
   ]
  },
  {
   "cell_type": "markdown",
   "id": "ba8ee358-a2e3-4f94-bebb-a77118a2ec79",
   "metadata": {},
   "source": [
    "### 5.2. python function calls\n",
    "\n",
    "`Instance.call_python()` permits direct invocation of Python\n",
    "functions in any installed interpreter.\n",
    "\n",
    "#### interpreter selection and installation\n",
    "\n",
    "`call_python()` requires a Python interpreter on the remote host. \n",
    "* By default, it uses the first `python` on the shell $PATH (if any). \n",
    "* You can explicitly specify the path to an interpreter by passing it\n",
    "  as the `interpreter_path` argument.\n",
    "* If you want to run code in a conda env, you can pass the name of\n",
    "  the env as the `env` argument, and `hostess` will find it for you.\n",
    "\n",
    "The stock Ubuntu AWS image doesn't come with Python.\n",
    "We'd like to demonstrate the special relationship between \n",
    "`call_python()` and Conda, so we're going to install\n",
    "the Miniforge distribution of Python."
   ]
  },
  {
   "cell_type": "code",
   "execution_count": 2,
   "id": "82d829de-6ff0-41d6-afd3-b861ef3f0a5e",
   "metadata": {},
   "outputs": [
    {
     "ename": "NameError",
     "evalue": "name 'kitty' is not defined",
     "output_type": "error",
     "traceback": [
      "\u001b[0;31m---------------------------------------------------------------------------\u001b[0m",
      "\u001b[0;31mNameError\u001b[0m                                 Traceback (most recent call last)",
      "Cell \u001b[0;32mIn[2], line 7\u001b[0m\n\u001b[1;32m      2\u001b[0m miniforge_url \u001b[38;5;241m=\u001b[39m (\n\u001b[1;32m      3\u001b[0m     \u001b[38;5;124m\"\u001b[39m\u001b[38;5;124mhttps://github.com/conda-forge/miniforge/releases/latest/\u001b[39m\u001b[38;5;124m\"\u001b[39m\n\u001b[1;32m      4\u001b[0m     \u001b[38;5;124m\"\u001b[39m\u001b[38;5;124mdownload/Miniforge3-Linux-x86_64.sh\u001b[39m\u001b[38;5;124m\"\u001b[39m\n\u001b[1;32m      5\u001b[0m )\n\u001b[1;32m      6\u001b[0m \u001b[38;5;66;03m# this might take a minute or two.\u001b[39;00m\n\u001b[0;32m----> 7\u001b[0m installation \u001b[38;5;241m=\u001b[39m \u001b[43mkitty\u001b[49m\u001b[38;5;241m.\u001b[39mcommands(\n\u001b[1;32m      8\u001b[0m     [\u001b[38;5;124mf\u001b[39m\u001b[38;5;124m\"\u001b[39m\u001b[38;5;124mwget \u001b[39m\u001b[38;5;132;01m{\u001b[39;00mminiforge_url\u001b[38;5;132;01m}\u001b[39;00m\u001b[38;5;124m\"\u001b[39m, \u001b[38;5;124mf\u001b[39m\u001b[38;5;124m\"\u001b[39m\u001b[38;5;124msh \u001b[39m\u001b[38;5;132;01m{\u001b[39;00mPath(miniforge_url)\u001b[38;5;241m.\u001b[39mname\u001b[38;5;132;01m}\u001b[39;00m\u001b[38;5;124m -b\u001b[39m\u001b[38;5;124m\"\u001b[39m],\n\u001b[1;32m      9\u001b[0m     op\u001b[38;5;241m=\u001b[39m\u001b[38;5;124m\"\u001b[39m\u001b[38;5;124mand\u001b[39m\u001b[38;5;124m\"\u001b[39m,\n\u001b[1;32m     10\u001b[0m )\n\u001b[1;32m     11\u001b[0m installation\u001b[38;5;241m.\u001b[39mwait()\n\u001b[1;32m     12\u001b[0m \u001b[38;5;28mprint\u001b[39m(installation\u001b[38;5;241m.\u001b[39mout[\u001b[38;5;241m-\u001b[39m\u001b[38;5;241m1\u001b[39m])\n",
      "\u001b[0;31mNameError\u001b[0m: name 'kitty' is not defined"
     ]
    }
   ],
   "source": [
    "from pathlib import Path\n",
    "miniforge_url = (\n",
    "    \"https://github.com/conda-forge/miniforge/releases/latest/\"\n",
    "    \"download/Miniforge3-Linux-x86_64.sh\"\n",
    ")\n",
    "# this might take a minute or two.\n",
    "installation = kitty.commands(\n",
    "    [f\"wget {miniforge_url}\", f\"sh {Path(miniforge_url).name} -b\"],\n",
    "    op=\"and\",\n",
    ")\n",
    "installation.wait()\n",
    "print(installation.out[-1])"
   ]
  },
  {
   "cell_type": "markdown",
   "id": "f6ad841f-3ac0-449b-855e-a8040b9b6b41",
   "metadata": {
    "jp-MarkdownHeadingCollapsed": true
   },
   "source": [
    "#### making function calls\n",
    "\n",
    "`call_python()` lets you directly call Python functions on an instance,\n",
    "from simple math functions to top-level handlers for complex applications. \n",
    "A silly example:"
   ]
  },
  {
   "cell_type": "code",
   "execution_count": null,
   "id": "94af128b-dd80-414e-bbb8-dd38381b2e20",
   "metadata": {},
   "outputs": [],
   "source": [
    "from more_itertools import chunked\n",
    "\n",
    "# roll 3d6 6 times\n",
    "rolls = [\n",
    "    kitty.call_python(\n",
    "        \"random\", \"randint\", (1, 6), splat=\"*\", env=\"base\"\n",
    "    )\n",
    "    for die in range(18)\n",
    "]\n",
    "# the processes are running asynchronously; wait for them to complete\n",
    "[r.wait() for r in rolls]\n",
    " \n",
    "# chunk and sum the results\n",
    "rolls = chunked([int(r.out[0]) for r in rolls], 3)\n",
    "stats = [\n",
    "    kitty.call_python(None, \"sum\", roll, env=\"base\") for roll in rolls\n",
    "]\n",
    "[s.wait() for s in stats]\n",
    "[int(s.out[0]) for s in stats]"
   ]
  },
  {
   "cell_type": "markdown",
   "id": "097d8ae5-af42-45d1-b52d-2e687d7bb266",
   "metadata": {},
   "source": [
    "#### a note on performance\n",
    "\n",
    "It is perfectly appropriate to call computationally inexpensive \n",
    "procedures with `call_python()` for utility, administration, and \n",
    "similar purposes.\n",
    "\n",
    "However, if you're doing intense computation, `call_python()` is best-used \n",
    "to call functions that act as entry points to larger pipelines, or at least \n",
    "perform larger units of work. The preceding example is an exaggeratedly \n",
    "inefficient use of `call_python()`, sending 24 separate networked instructions\n",
    "to and executing 24 separate Python interpreter processes to add a few random numbers. \n",
    "For simple calculations like this, the overhead involved in making the remote calls\n",
    "and launching the interpreter far outweighs the program execution itself.\n",
    "\n",
    "----\n",
    "\n",
    "Now, a less silly example: quickly turn kitty into a simple web proxy."
   ]
  },
  {
   "cell_type": "code",
   "execution_count": null,
   "id": "5bc79a4b-67d0-48a1-adb1-21ae2ea9d81b",
   "metadata": {},
   "outputs": [],
   "source": [
    "# write a simple script to retrieve web content\n",
    "fetch_script = \"\"\"\n",
    "import requests\n",
    "\n",
    "def fetch_url(url):\n",
    "    response = requests.get(url)\n",
    "    response.raise_for_status()\n",
    "    return response.text\n",
    "\"\"\"\n",
    "# write the script to the instance. literal_str=True means:\n",
    "# write fetch_script into fetch.py as a string instead\n",
    "# of trying to interpret fetch_script as a path to a file.\n",
    "kitty.put(fetch_script, \"fetch.py\", literal_str=True)\n",
    "\n",
    "def fetch(url):\n",
    "    response = kitty.call_python(\n",
    "        \"/home/ubuntu/fetch.py\", \"fetch_url\", url, env=\"base\", _wait=True\n",
    "    )\n",
    "    return ''.join(response.out)"
   ]
  },
  {
   "cell_type": "code",
   "execution_count": null,
   "id": "b3b2f7c9-2e10-45ac-ab50-a1299cfc91ac",
   "metadata": {},
   "outputs": [],
   "source": [
    "from IPython.display import HTML\n",
    "\n",
    "# now you can read Shakespeare in perfect privacy.\n",
    "HTML(fetch(\"http://shakespeare.mit.edu/midsummer/midsummer.3.1.html\"))"
   ]
  },
  {
   "cell_type": "markdown",
   "id": "96e882cc-dabe-47da-be4d-85a6cf6aa443",
   "metadata": {
    "jp-MarkdownHeadingCollapsed": true
   },
   "source": [
    "#### limitations of `call_python()`\n",
    "\n",
    "* `call_python()` is versatile but is not designed for passing enormous \n",
    "single arguments. If you want to use `call_python()` in applications that \n",
    "work with large quantities of data, you'll be better off storing the \n",
    "data in files and calling functions that accept their filenames as \n",
    "arguments.\n",
    "* `call_python()` does not currently implement automated serialization or\n",
    "compression for return arguments. If you want to get serialized objects\n",
    "back from the instance, you will need to ensure that the called\n",
    "function includes a serialization step and then deserialize it yourself\n",
    "locally. this may change in the future.\n",
    "    * *note: if you want to dynamically pass Python objects around in a\n",
    "       supervised way, consider looking at the `hostess.station()`\n",
    "      framework.*"
   ]
  },
  {
   "cell_type": "markdown",
   "id": "56f37e13",
   "metadata": {},
   "source": [
    "### 5.3: remote Jupyter Notebook access\n",
    "\n",
    "Many Python programmers (including us) suffer from a deep attachment to Jupyter.\n",
    "Firing off scripts is lovely, but sometimes you need to roll up your sleeves\n",
    "and dig around in an interactive environment, and while shells are fine, cell \n",
    "persistence, graphical capabilities, and ... well, we probably don't need to\n",
    "talk you into it.\n",
    "\n",
    "On the other hand, setting up remote Jupyter servers can be a giant hassle, \n",
    "and if you permit HTTP access to them, it's very hard to make them secure.\n",
    "Fortunately, `Instance` includes a streamlined method for launching a Jupyter\n",
    "server and tunneling to it over SSH: `Instance.notebook()`. It's a Notebook there, \n",
    "but here, and just for you."
   ]
  },
  {
   "cell_type": "code",
   "execution_count": null,
   "id": "9ceba220",
   "metadata": {},
   "outputs": [],
   "source": [
    "# kitty doesn't have Jupyter, so we'll need to install it first.\n",
    "# you should expect this to take 2-3 minutes depending on internet \n",
    "# weather -- Jupyter Notebook has a lot of dependencies.\n",
    "\n",
    "kitty.con(\n",
    "    \"/home/ubuntu/miniforge3/bin/mamba create -y -n notebook notebook\"\n",
    ")"
   ]
  },
  {
   "cell_type": "code",
   "execution_count": null,
   "id": "8b3d3ffb",
   "metadata": {},
   "outputs": [],
   "source": [
    "# there are no mandatory arguments to Instance.notebook(),\n",
    "# although it'll only work that way if you have Jupyter \n",
    "# installed in a Python environment on your default $PATH.\n",
    "# we'll show some useful options here for the sake of\n",
    "# demonstration:\n",
    "\n",
    "url, tunnel, tunnel_info, launch, stopper = kitty.notebook(\n",
    "    # what port would you like to use for the local end\n",
    "    # of the tunnel? it's useful to be able to change this \n",
    "    # if you want to run multiple Instance-powered notebooks\n",
    "    # or have a lot of other port forwarding going on.\n",
    "    # also, if you shut down the Notebook but don't kill your local\n",
    "    # tunnel (see below) you won't be able to bind anything else\n",
    "    # to that port.\n",
    "    # automated tunnel closing is a planned feature, but it \n",
    "    # won't be perfectly reliable in all cases.\n",
    "    # defaults to 22222.\n",
    "    local_port=12358,\n",
    "    # what port would you like the instance to launch \n",
    "    # Jupyter Server on? defaults to 8888, the default \n",
    "    # Jupyter Server port.\n",
    "    remote_port=10001,\n",
    "    # optional name of a conda environment -- if not specified,\n",
    "    # just tries to run a jupyter executable from the $PATH.\n",
    "    env='notebook',\n",
    "    # what directory would you like Jupyter to use as \n",
    "    # its root working directory? if not specified, defaults \n",
    "    # to the remote user's home directory, so the value here\n",
    "    # here is redundant and just for the sake of demonstration.\n",
    "    # this is useful because it's difficult to 'back up' from\n",
    "    # the directory Jupyter launches in, so you won't be\n",
    "    # able to access anything outside your home directory \n",
    "    # tree by default.\n",
    "    working_directory='/home/ubuntu',\n",
    "    # set this to True to use JupyterLab instead of Notebook\n",
    "    lab=False\n",
    ")\n",
    "# navigate to the url and try out kitty's Notebook:\n",
    "url"
   ]
  },
  {
   "cell_type": "markdown",
   "id": "98ad1f0b",
   "metadata": {
    "jp-MarkdownHeadingCollapsed": true
   },
   "source": [
    "#### tips for `Instance.notebook()`\n",
    "\n",
    "1. `notebook()` launches Jupyter daemonized. This means \n",
    "   that if you lose your connection for whatever reason,\n",
    "   whatever Jupyter might have been doing on the instance\n",
    "   will not stop. You can even reestablish a tunnel to\n",
    "   the instance and continue working.\n",
    "    \n",
    "   It also means that if you kill the launch process \n",
    "   (`launch` in the example above), it won't stop Jupyter \n",
    "   in the way hitting CTRL-C does when you run it in an interactive \n",
    "   session. `notebook()`, however, returns a function that you can call \n",
    "   to gracefully shut down Jupyter (`stopper` in the \n",
    "   example above). If something's gone very wrong with Jupyter\n",
    "   and this doesn't work, take the gloves off and run\n",
    "   `Instance.command('killall jupyter-noteboo')`. Also, if you \n",
    "   *want* Jupyter to shut down when you disconnect,\n",
    "   you can pass `kill_on_exit=True` to `notebook()`, although\n",
    "   this isn't guaranteed to work if your local Python process\n",
    "   segfaults or something.\n",
    "2. `notebook()` also returns a Process object encapsulating \n",
    "   the SSH tunnel, along with metadata about the tunnel (`tunnel` \n",
    "   and `tunnel_info` in the example above). If something\n",
    "   goes wrong with the tunnel, inspecting these can be useful.\n",
    "3. Finally, `notebook()` returns a `Viewer` for the process that \n",
    "   actually launched Jupyter (`launch` in the example above). \n",
    "   Examining this can be useful as a diagnostic for Jupyter-level \n",
    "   issues. Unless you pass `kill_on_exit=True`, killing this process \n",
    "   won't actually kill Jupyter; it'll just keep you from receiving \n",
    "   its console output.\n",
    "4. Conventions for controlling Jupyter have changed with Notebook 7.\n",
    "   We do not guarantee backwards compatibility with earlier versions\n",
    "   of Notebook."
   ]
  },
  {
   "cell_type": "markdown",
   "id": "d0e248e3-37d2-4672-8659-1eb2b6eeec59",
   "metadata": {
    "jp-MarkdownHeadingCollapsed": true
   },
   "source": [
    "### 5.4. managing SSH connections\n",
    "\n",
    "* as you've seen, you normally don't have to manually establish an SSH connection to\n",
    "an instance. it will happen automatically when you try to use `Instance` functionality that\n",
    "requires a connection. However, the `connect()` method can be used to ensure that you \n",
    "_can_ connect to the instance, or to 'prep' it so that there's no connection delay \n",
    "on your first command when you get to that part of a program.\n",
    "    * this method does nothing if a connection is already open.\n",
    "* you might also want to close an existing connection and open a new one -- for\n",
    "instance, if you lost track of a bunch of processes or the connection gets externally\n",
    "disrupted in a weird way. you can do this with the `reconnect()` method.\n",
    "    * this will immediately terminate all non-daemonized processes executed\n",
    "over the exiting connection and close any established tunnels / forwarded ports.\n",
    "    * if no connection is currently open, `reconnect()` is equivalent to `connect()`.\n",
    "* By default, EC2 uses a strict IP allowlist to gate incoming traffic to instances. \n",
    "This provides extremely good security, and `hostess` mimics this behavior by default. However,\n",
    "this means that if your IP address changes, you won't be able to connect to your instances\n",
    "anymore until you modify their security group settings. This can be a big hassle if you're \n",
    "on a cell network, using a VPN with IP hopping, or simply moving around a lot.\n",
    "`Instance.rebase_ssh_ingress_ip()` can quickly solve this issue for you: it modifies the \n",
    "security groups associated with an instance to permit SSH access from your IP.\n",
    "    * **IMPORTANT:** this method revokes all other ingress permissions. Do not use\n",
    "    it if you need an instance to be accessible to anyone or anything but you. This may change in the future.\n",
    "* If you'd like to establish an SSH tunnel on a specific port so that you can access some service on the instance in another application, you can call `tunnel(local_port, remote_port)`. For instance, if you launched a Notebook on the instance using the earlier cell, and then dropped connection for some reason, you could reestablish the tunnel with `Instance.tunnel(12358, 10001)` and go back to whatever you were doing in Notebook. Same deal for anything from PostgreSQL (5432) to DOOM (666)."
   ]
  },
  {
   "cell_type": "markdown",
   "id": "86814c62-c46f-469d-a395-e409995b7b47",
   "metadata": {},
   "source": [
    "## 5.6. cost estimation\n",
    "\n",
    "There are a variety of costs associated with operating EC2 instances. \n",
    "The `Instance.price_per_hour()` method provides an easy way to estimate\n",
    "many -- although not all -- of these costs. Specifically, it provides \n",
    "estimates for:\n",
    "* EBS timed storage\n",
    "* EBS throughput and IOPS\n",
    "* timed instance usage\n",
    "\n",
    "The first time you run this method, it'll take a few seconds, because \n",
    "it's retrieving a large price list from AWS. `hostess` caches this list \n",
    "for a week, so subsequent runs will be faster.\n",
    "\n",
    "`price_per_hour()` returns a `dict` with keys \"running\" and \"stopped\".\n",
    "\"Running\" provides an estimate of how much the instance will cost per\n",
    "hour when it's in the running state; \"stopped\", an estimate of cost\n",
    "per hour in the stopped state. Prices are in USD."
   ]
  },
  {
   "cell_type": "code",
   "execution_count": null,
   "id": "9cebf3ea-115d-4b65-928c-58704ecf5028",
   "metadata": {},
   "outputs": [],
   "source": [
    "kitties[1].get(results[1].out[0], results[1].out[0])"
   ]
  },
  {
   "cell_type": "code",
   "execution_count": null,
   "id": "d4494b69-aea9-4015-8f5f-fb39a043d4f6",
   "metadata": {},
   "outputs": [],
   "source": [
    "# kitty should cost about a cent per hour while running, and a \n",
    "# cent per 8 hours while stopped.\n",
    "kitty.price_per_hour()"
   ]
  },
  {
   "cell_type": "markdown",
   "id": "73001acd-9edb-4e62-8f16-f3b32eca75e9",
   "metadata": {
    "jp-MarkdownHeadingCollapsed": true
   },
   "source": [
    "### limitations of `price_per_hour()`\n",
    "\n",
    "`price_per_hour()` doesn't take the following things into account,\n",
    "which can cause its estimates to be low or high:\n",
    "\n",
    "* data out fees.\n",
    "    * if the instance transfers lots of data out\n",
    "  to the open internet, including your local computer, the estimate\n",
    "  will be low.\n",
    "* savings plans or other cost reductions.\n",
    "  * if the instance is\n",
    "  a spot instance, if you have a relevant capacity reservation, or\n",
    "  if you own a reserved instance of the appropriate type, the estimate\n",
    "  will be high.\n",
    "* CPU credit charges for burstable instances in unlimited mode.\n",
    "    * If the instance type name begins with a 't' and you are frequently slamming\n",
    "  its CPUs, the estimate will be low.\n",
    "* timed storage fees for any snapshots or AMIs created from the instance's\n",
    "  volumes."
   ]
  },
  {
   "cell_type": "markdown",
   "id": "713bf335-cfd9-4bb4-a027-9f0d8a27398a",
   "metadata": {},
   "source": [
    "## 6. clusters\n",
    "\n",
    "### 6.1. launching a `Cluster`\n",
    "\n",
    "On the backend, all on-demand EC2 instance launch requests are 'fleet requests' --\n",
    "even if they're for a fleet of one. For this reason, we implemented `Instance.launch()`\n",
    "as a thin wrapper around `Cluster.launch()`, so you can just refer to the earlier \n",
    "section on launching instances for a detailed description of most of \n",
    "`Cluster.launch()`'s behavior. The only difference in the signature is \n",
    "that `Cluster.launch` requires a `count` argument specifying the number of \n",
    "instances to launch."
   ]
  },
  {
   "cell_type": "code",
   "execution_count": null,
   "id": "5ae1a6e3",
   "metadata": {},
   "outputs": [],
   "source": [
    "# launch a Cluster (clowder?) of 4 kitties.\n",
    "# note that Cluster appends a number to each of \n",
    "# their names so that you can tell them apart.\n",
    "from hostess.aws.ec2 import Cluster\n",
    "\n",
    "kitties = Cluster.launch(count=4, template=\"kitty\", connect=True)"
   ]
  },
  {
   "cell_type": "markdown",
   "id": "e293955b",
   "metadata": {},
   "source": [
    "### 6.2. using an individual `Instance` from a `Cluster`\n",
    "\n",
    "Each of a `Cluster`'s `instances` is an `Instance` object.\n",
    "There's no difference between these `Instance` objects and\n",
    "any others -- they're not even aware they're part of a \n",
    "`Cluster`. This means that if you like, you can simply \n",
    "work with them individually. In some ways, `Cluster` \n",
    "is just a list of `Instance`s, and you can even use\n",
    "slice notation on it:"
   ]
  },
  {
   "cell_type": "code",
   "execution_count": null,
   "id": "07b3ae27",
   "metadata": {
    "scrolled": true
   },
   "outputs": [],
   "source": [
    "kitty0 = kitties[0]\n",
    "\n",
    "print(kitty0)\n",
    "kitty0.con('uname -a')"
   ]
  },
  {
   "cell_type": "markdown",
   "id": "f1b694b8",
   "metadata": {},
   "source": [
    "### 6.3. running simultaneous commands across a `Cluster`\n",
    "\n",
    "`Cluster` also lets you do things with all its `Instances` at once.\n",
    "Its `command()`, `commands()`, `con()`, and `call_python()` methods\n",
    "asynchronously call the corresponding method of all its `Instances`\n",
    "with the same arguments and return the results to you in a list."
   ]
  },
  {
   "cell_type": "code",
   "execution_count": null,
   "id": "453031ee",
   "metadata": {},
   "outputs": [],
   "source": [
    "# Cluster.command() returns a list of Viewers:\n",
    "kitties.command('uptime', _wait=True)"
   ]
  },
  {
   "cell_type": "markdown",
   "id": "a13e1f72-80ac-40d1-bf61-862e3a75be61",
   "metadata": {},
   "source": [
    "### 6.4 mapping commands across a `Cluster`\n",
    "\n",
    "Sometimes, of course, you don't want to call the same exact command \n",
    "on all your instances -- instead, you'd like to distribute a workload\n",
    "across them. While you can do this by explicitly iterating over\n",
    "`Cluster.instances`, `Cluster` also offers two automated methods for\n",
    "asynchronously mapping arguments across its `Instances` -- `commandmap()`,\n",
    "which calls `Instance.command()`, and `pythonmap()`, which calls \n",
    "`Instance.call_python()`. \n",
    "\n",
    "These have several legal calling conventions; silly examples follow. \n",
    "\n",
    "(These examples use `commandmap()`, but conventions are the same for \n",
    "`pythonmap()`.)"
   ]
  },
  {
   "cell_type": "code",
   "execution_count": null,
   "id": "d2094540-dd06-4fa1-8cb2-b8da89ffc453",
   "metadata": {},
   "outputs": [],
   "source": [
    "# you can map sequences of args and kwargs. the first argument, \"argseq\", is a\n",
    "# sequence of args, one sequence of args per instance; the second, \"kwargseq\", \n",
    "# is an optional sequence of kwargs, one mapping of kwargs per instance.\n",
    "\n",
    "# example with args:\n",
    "kitties.commandmap(\n",
    "    [(\"echo\", i) for i in range(len(kitties))]\n",
    ")"
   ]
  },
  {
   "cell_type": "code",
   "execution_count": null,
   "id": "14774796-e199-4fc4-86c9-ee83e2d707f2",
   "metadata": {},
   "outputs": [],
   "source": [
    "# example adding kwargs:\n",
    "kitties.commandmap(\n",
    "    ([(\"head\", \"/dev/urandom\") for _ in range(len(kitties))]),\n",
    "    ([{'c': (i + 1) * 2} for i in range(len(kitties))])\n",
    ")"
   ]
  },
  {
   "cell_type": "code",
   "execution_count": null,
   "id": "8ded176c-e83b-46e2-a808-d243124330ca",
   "metadata": {},
   "outputs": [],
   "source": [
    "# you can populate argseq with strings rather than sequences.\n",
    "# an equivalent of the previous cell:\n",
    "kitties.commandmap(\n",
    "    ([\"head /dev/urandom\" for _ in range(len(kitties))]),\n",
    "    ([{'c': (i + 1) * 2} for i in range(len(kitties))])\n",
    ")"
   ]
  },
  {
   "cell_type": "code",
   "execution_count": null,
   "id": "cc767326-99cd-4376-a7e1-49cce1f852cb",
   "metadata": {},
   "outputs": [],
   "source": [
    "# you can also pass a single string or a single sequence\n",
    "# of args if you want to pass the same args to all \n",
    "# instances:\n",
    "kitties.commandmap(\n",
    "    \"head /dev/urandom\",\n",
    "    ([{'c': (i + 1) * 2} for i in range(len(kitties))])\n",
    ")"
   ]
  },
  {
   "cell_type": "code",
   "execution_count": null,
   "id": "5ce8f6e2-6f8e-401a-a9ed-7ca0cb030da0",
   "metadata": {},
   "outputs": [],
   "source": [
    "# and you can do the same thing with a single mapping for kwargseq:\n",
    "dirs = (\"/opt\", \"/home\", \"/run\", \"/usr\")\n",
    "kitties.commandmap([(\"ls\", d) for d in dirs], {'a': True})"
   ]
  },
  {
   "cell_type": "markdown",
   "id": "65063987-904f-43bc-8b89-998252a9c882",
   "metadata": {},
   "source": [
    "### 6.5. creating a `Cluster` from existing instances\n",
    "\n",
    "Just like `Instance`, you don't have to launch new instances\n",
    "to create a `Cluster`. The easiest way to do this is by using\n",
    "`Cluster.from_descriptions()`, which lets you create a `Cluster`\n",
    "from instance descriptors, including the output of `ls_instances()`.\n",
    "\n",
    "#### tips\n",
    "\n",
    "* You don't have to do this with instances created from a single fleet\n",
    "  request -- if you have EC2 instances of different types, you can still\n",
    "  use `from_descriptions()` to group them into a `Cluster`. They do,\n",
    "  however, need to be in the same AWS Region.\n",
    "* Alternatively, if you've already created `Instance` objects, you can\n",
    "  construct a `Cluster` from them by passing them to the default class\n",
    "  constructor, like: `cluster = Cluster(list_of_my_instance_objects)`.\n",
    "  Instances _don't_ all have to be in the same Region to create a `Cluster`\n",
    "  this way."
   ]
  },
  {
   "cell_type": "code",
   "execution_count": null,
   "id": "199b8904-84bd-4916-a49e-476beb1df522",
   "metadata": {},
   "outputs": [],
   "source": [
    "kitties.terminate()"
   ]
  },
  {
   "cell_type": "code",
   "execution_count": null,
   "id": "2fbaf4fe",
   "metadata": {},
   "outputs": [],
   "source": [
    "# delete the kitties object from the namespace to ensure we're not using it.\n",
    "# just like Instance, deleting a Cluster doesn't do anything to the actual\n",
    "# EC2 instances.\n",
    "del kitties\n",
    "from hostess.aws.ec2 import Cluster, ls_instances\n",
    "\n",
    "kitties = Cluster.from_descriptions(ls_instances(name='kitty'))\n",
    "kitties"
   ]
  },
  {
   "cell_type": "markdown",
   "id": "5c7e27a3-8b4b-46d3-a79a-c84454a2342a",
   "metadata": {},
   "source": [
    "### 6.6. worked example: make 'browse' images of planetary data\n",
    "\n",
    "`Cluster` can be used to quickly compose distributed processing \n",
    "pipelines, from simple to complex. Here's a very simple example\n",
    "of a pipeline that distributes data download and rendering tasks\n",
    "across multiple EC2 instances.\n",
    "\n",
    "Although this is a simple example, it's a good example of how to\n",
    "leverage distributed resources; it utilizes I/O pipe size increase \n",
    "from multiple servers by parallelizing downloads, and also minimizes \n",
    "transfer costs by returning only JPEG-compressed data from the instances to you.\n",
    "\n",
    "### 6.6.1. prepare the kitties\n",
    "\n",
    "We'll use [`pdr`](https://github.com/millionConcepts/pdr) to read planetary data.\n",
    "Let's first set up a Python environment:"
   ]
  },
  {
   "cell_type": "code",
   "execution_count": null,
   "id": "a527ba75-590e-439c-914a-137e3f5864f6",
   "metadata": {},
   "outputs": [],
   "source": [
    "from pathlib import Path\n",
    "miniforge_url = (\n",
    "    \"https://github.com/conda-forge/miniforge/releases/latest/\"\n",
    "    \"download/Miniforge3-Linux-x86_64.sh\"\n",
    ")\n",
    "# this might take a few minutes.\n",
    "installation = kitties.commands(\n",
    "    [\n",
    "        f\"wget {miniforge_url}\", \n",
    "        f\"sh {Path(miniforge_url).name} -b\",\n",
    "        \"/home/ubuntu/miniforge3/bin/mamba create -n pdr pdr -y\",\n",
    "        \"/home/ubuntu/miniforge3/bin/mamba install-n pdr requests -y\"\n",
    "    ],\n",
    "    op=\"and\",\n",
    "    _wait=True\n",
    ")"
   ]
  },
  {
   "cell_type": "markdown",
   "id": "b5e77638-5ac2-4eb7-8a0c-1426dba382fc",
   "metadata": {},
   "source": [
    "### 6.6.2. write a product download and rendering script\n",
    "\n",
    "This is a very, very simple pipeline -- we just download the\n",
    "data at a URL, open it with `pdr`, and then use `pdr` to dump \n",
    "it out as a PNG. It's not hard to imagine how you might make\n",
    "this *much* more complex and configurable, though..."
   ]
  },
  {
   "cell_type": "code",
   "execution_count": null,
   "id": "9885028a-6bcc-4789-bb39-cd22861ade8d",
   "metadata": {},
   "outputs": [],
   "source": [
    "script = \"\"\"\n",
    "def thumbnail_from_url(url):\n",
    "    from pathlib import Path\n",
    "    \n",
    "    import pdr\n",
    "    import requests\n",
    "\n",
    "    # this loop lets us get the detached metadata files\n",
    "    for ext in (\"IMG\", \"LBL\"):\n",
    "        response = requests.get(url.replace(\"IMG\", ext))\n",
    "        response.raise_for_status()\n",
    "        with open(Path(url).name.replace(\"IMG\", ext), \"wb\") as stream:\n",
    "            stream.write(response.content)\n",
    "    data = pdr.read(Path(url).name)\n",
    "    data.load(\"IMAGE\")\n",
    "    data.dump_browse()\n",
    "    # pdr's standard browse filename pattern\n",
    "    return f\"{Path(url).stem}_IMAGE.jpg\"\n",
    "\"\"\"\n",
    "for kitty in kitties.instances:\n",
    "    kitty.put(script, \"fetch_and_render.py\", literal_str=True)"
   ]
  },
  {
   "cell_type": "markdown",
   "id": "d3d49111-1898-4a34-9fa2-abe2b65db0ac",
   "metadata": {},
   "source": [
    "### 6.6.3. map source images across kitties\n",
    "\n",
    "Now, we'll point the kitties at some Mars images hosted by the Planetary Data System's Imaging Node and let them do their thing."
   ]
  },
  {
   "cell_type": "code",
   "execution_count": null,
   "id": "e90c5c34-7e8c-40e0-b36f-70ebc64948b1",
   "metadata": {},
   "outputs": [],
   "source": [
    "folder = \"https://pdsimage2.wr.usgs.gov/Missions/Mars_Science_Laboratory/MSLMHL_0006/DATA/RDR/SURFACE/0547/\"\n",
    "files = (\n",
    "    \"0547MH0002590000201525E01_DRLX.IMG\",\n",
    "    \"0547MH0002600000201524E01_DRLX.IMG\",\n",
    "    \"0547MH0002640000201526E01_DRLX.IMG\",\n",
    "    \"0547MH0003250050201529E01_DRLX.IMG\",\n",
    ")\n",
    "args = (\"fetch_and_render\", \"thumbnail_from_url\")\n",
    "# distribute URLs across instances.\n",
    "kwargseq = [\n",
    "    {'splat': '**', 'env': 'pdr', 'payload': {'url': f\"{folder}{file}\"}}\n",
    "    for file in files\n",
    "]\n",
    "results = kitties.pythonmap(args, kwargseq)"
   ]
  },
  {
   "cell_type": "code",
   "execution_count": null,
   "id": "c89ed50a-bbdd-4ba4-ac27-91fa793f0522",
   "metadata": {},
   "outputs": [],
   "source": [
    "# get the files as bytes\n",
    "jpg_blobs = [\n",
    "    kitty.read(r.out[0], \"rb\")\n",
    "    for r, kitty in zip(results, kitties)\n",
    "]"
   ]
  },
  {
   "cell_type": "code",
   "execution_count": null,
   "id": "2bc04fb8-065f-46fc-93cc-79f8fb167f2d",
   "metadata": {},
   "outputs": [],
   "source": [
    "# and look at whichever of them you like.\n",
    "from io import BytesIO\n",
    "from PIL import Image\n",
    "\n",
    "Image.open(BytesIO(jpg_blobs[0]))"
   ]
  },
  {
   "cell_type": "markdown",
   "id": "e9ade3e1-4cfd-4410-a037-592c3be78ad4",
   "metadata": {},
   "source": [
    "### 6.7. Controlling `Cluster` state\n",
    "\n",
    "`Cluster` lets you pass `start`, `stop`, and `terminate` commands to all its `Instances`\n",
    "at once. Let's just do some quick cleanup:"
   ]
  },
  {
   "cell_type": "code",
   "execution_count": null,
   "id": "d18454e6-6415-40a1-a973-1db5ebde0d31",
   "metadata": {},
   "outputs": [],
   "source": [
    "kitties.terminate()\n",
    "kitties[0].state"
   ]
  },
  {
   "cell_type": "markdown",
   "id": "af9f55b2-0009-49a7-b293-724f092b7b8e",
   "metadata": {},
   "source": [
    "## appendix\n",
    "\n",
    "### breakdown of estimated costs for this Notebook\n",
    "\n",
    "Running this Notebook as-is should incur approximately 11 cents in AWS costs.\n",
    "\n",
    "* This estimate assumes that you take extended breaks in the middle of running this Notebook\n",
    "  and leave the `kitty` `Instance` and the `kitties` `Cluster` running for 2 hours each.\n",
    "* This Notebook uses burstable instances, but the processes it executes are not\n",
    "  CPU-intensive enough to incur CPU credit charges.\n",
    "* EBS API call costs are negligible.\n",
    "* All values in USD.\n",
    "\n",
    "t3a.micro on-demand instance usage \n",
    "\n",
    "    0.0094 / hour * 1 instance * 2 hours = 0.0188\n",
    "    0.0094 / hour * 4 instances * 2 hours = 0.0752\n",
    "\n",
    "data out\n",
    "\n",
    "    2 MB @ 0.09 / GB = 0.00018\n",
    "\n",
    "gp2 volume usage\n",
    "\n",
    "    9 GB @ $0.10 / GB-month * 2 hours / 730 hours/month = 0.0025\n",
    "    36 GB @ $0.10 / GB-month * 2 hours / 730 hours/month = 0.01\n",
    "    \n",
    "TOTAL: ~0.106 USD"
   ]
  }
 ],
 "metadata": {
  "kernelspec": {
   "display_name": "Python 3 (ipykernel)",
   "language": "python",
   "name": "python3"
  },
  "language_info": {
   "codemirror_mode": {
    "name": "ipython",
    "version": 3
   },
   "file_extension": ".py",
   "mimetype": "text/x-python",
   "name": "python",
   "nbconvert_exporter": "python",
   "pygments_lexer": "ipython3",
   "version": "3.11.5"
  }
 },
 "nbformat": 4,
 "nbformat_minor": 5
}
