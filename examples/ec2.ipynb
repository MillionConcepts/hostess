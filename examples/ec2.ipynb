{
 "cells": [
  {
   "cell_type": "markdown",
   "id": "30f37b56-2b52-4382-93b3-0aa86ffad42b",
   "metadata": {},
   "source": [
    "# examples for `hostess.aws.ec2`\n",
    "\n",
    "### introduction\n",
    "\n",
    "`hostess.aws.ec2` is a collection of utilities for working with EC2 instances.\n",
    "\n",
    "`Instance` and `Cluster` are its centerpiece classes. They are abstractions for, \n",
    "respectively, single EC2 instances and groups of EC2 instances. By offering both\n",
    "managed interaction with the EC2 API and a rich set of remote procedure call (RPC)\n",
    "capabilities, they attempt to make distributed workflows as conceptually simple and \n",
    "immediate as local ones. \n",
    "\n",
    "### requirements\n",
    "\n",
    "1.  You need appropriate AWS permissions to perform any actions that call the\n",
    "    EC2 API. You cannot, for instance, use `ls_instances()` without the ListInstances\n",
    "    permission, or `Instance.start()` without StartInstances permission for the\n",
    "    particular instance you are attempting to start. (A complete discussion of AWS\n",
    "    permissions management is beyond the scope of this document.)\n",
    "\n",
    "    By default, `hostess` uses the 'default' profile from ~/.aws/credentials.\n",
    "    This can be modified in `hostess.config.user_config` or by manually constructing\n",
    "    a session with `hostess.aws.utils.init_session`. \n",
    "\n",
    "    If you are in a situation where you have SSH access to, but not AWS permissions for, \n",
    "    an EC2 instance you'd like to make `hostess` RPCs on, you should ignore the fact that\n",
    "    it is an EC2 instance and simply use `hostess.ssh.SSH`, which underlies the RPC\n",
    "    capabilities of this module.\n",
    "    \n",
    "3. The RPC functionality offered by this module relies on SSH, so you need SSH access to an\n",
    "   instance to make RPCs on it. Specifically:\n",
    "   \n",
    "   1. The instance must be running `sshd` and configured to accept incoming connections.\n",
    "      You generally will not have to do anything special to set this up: the default\n",
    "      configuration of most stock AMIs, including the Ubuntu and Amazon Linux images, is\n",
    "      suitable.\n",
    "   2. The inbound traffic rules of the instance's security group must permit SSH access\n",
    "      from your IP.\n",
    "   3. `hostess` supports only keyfile-based authentication, so you must have the correct\n",
    "      keyfile for the instance, and `hostess` must be able to find it. If it shares a\n",
    "      filename with the key name known to AWS and is in your `~/.ssh` folder, `hostess`\n",
    "      will find it automatically. If this is not the case, you can manually specify a\n",
    "      path to the keyfile when constructing an `Instance` or `Cluster`. You can also change\n",
    "      the default search paths in `hostess.config.user_config`.\n",
    "\n",
    "   *note: if you want to create remote workflows without relying on SSH connections, we recommend\n",
    "   looking at the `hostess.station` framework.* \n",
    "\n",
    "### relationship to `boto3`\n",
    "\n",
    "`aws.ec2.Instance` is designed to be easier to use, more Pythonic, and more powerful than `boto3`'s \n",
    "`Instance` abstraction. However, it does not implement high-level interfaces for the entirety \n",
    "of the EC2 API. Because it works partly by wrapping parts of `boto3`, however, every `aws.ec2.Instance` \n",
    "also grants access to a `boto3` `Instance` object with a shared AWS configuration. If \n",
    "you need access to other parts of the EC2 API inside a `hostess` workflow, you can access this object\n",
    "via the `aws.ec2.Instance._instance` attribute."
   ]
  },
  {
   "cell_type": "markdown",
   "id": "49dbd0aa-ec4f-49c0-8632-8cec0171e82c",
   "metadata": {},
   "source": [
    "## 1. listing and finding instances\n",
    "\n",
    "*note: the output of these examples won't be very interesting if you don't currently\n",
    "have any instances. if you don't have any, but you do have an AWS profile configured on \n",
    "your computer, you might want to skip down to the 'launching instances' section.*\n",
    "\n",
    "If you have ever used the `awscli` command `aws ec2 describe-instances` to try to find\n",
    "an EC2 instance, you may have noticed that although its output is very complete, it is\n",
    "extremely verbose, deeply nested, and hard to parse. Its filtering options are also \n",
    "somewhat difficult to use. `hostess`'s `ls_instances()` is a much more lightweight \n",
    "alternative that is equally suitable for most use cases."
   ]
  },
  {
   "cell_type": "code",
   "execution_count": null,
   "id": "bdadf3d8-f5ff-45ae-be09-d12f80ec2597",
   "metadata": {},
   "outputs": [],
   "source": [
    "# if you simply call `ls_instances()` with no arguments, it will return a tuple\n",
    "# of dicts giving essential information about all your running, pending, or stopped\n",
    "# instances:\n",
    "# name (if any); public ip (if any); instance id; state (running, \n",
    "# pending, stopped, terminated); private ip (if any), and keyname (if any). \n",
    "from hostess.aws.ec2 import ls_instances\n",
    "\n",
    "instance_info = ls_instances()\n",
    "instance_info[0:2]"
   ]
  },
  {
   "cell_type": "code",
   "execution_count": null,
   "id": "24d02b9c-5afa-415c-92e9-5c3f3fd809da",
   "metadata": {},
   "outputs": [],
   "source": [
    "# ls_instances() offers a variety of ways to filter your search.\n",
    "# see the docstring for a full set of options; we'll just describe\n",
    "# one here. ls_instances() understands arbitrary keywords arguments \n",
    "# as case-insensitive tag filters. \n",
    "# if you have a single instance named 'kitty', you can find it with:\n",
    "ls_instances(name='kitty')[0]"
   ]
  },
  {
   "cell_type": "code",
   "execution_count": null,
   "id": "0febb34c-d03b-43a4-95ec-3c63671e32f9",
   "metadata": {},
   "outputs": [],
   "source": [
    "# this feature also supports optional regex matching. if you have a \n",
    "# set of instances named 'pipeline_1', 'pipeline_2', etc.:\n",
    "ls_instances(name=r'pipeline_\\d', tag_regex=True)"
   ]
  },
  {
   "cell_type": "markdown",
   "id": "111c5e0b-e564-4cab-adeb-69bbb7999708",
   "metadata": {},
   "source": [
    "## 2. connecting to an existing instance\n",
    "\n",
    "The only required argument to the `Instance` constructor is an\n",
    "identifier for the EC2 instance you'd like to work with. There are three\n",
    "acceptable types of identifier:\n",
    "\n",
    "* a connectable IP address for the instance, like `\"102.31.4.129\"`\n",
    "* the AWS instance identifier, like `\"i-0868ad3eeebe16cde\"`\n",
    "* one of the `dicts` returned by `ls_instances()`\n",
    "\n",
    "*note: if you're connecting to an instance from another EC2 instance, \n",
    "pass `use_private_ip=True` to the `Instance` constructor, and if \n",
    "you're using an IP address as the identifier in this case, make sure\n",
    "it's the private IP.*"
   ]
  },
  {
   "cell_type": "code",
   "execution_count": null,
   "id": "969abb99-08ae-4c14-9be8-424fb531b602",
   "metadata": {},
   "outputs": [],
   "source": [
    "# so, returning to the instance uniquely named 'kitty', \n",
    "# let's construct an Instance object connected to it \n",
    "# using a dict from ls_instances(): \n",
    "from hostess.aws.ec2 import Instance, ls_instances\n",
    "\n",
    "kitty = Instance(ls_instances(name='kitty')[0])\n",
    "\n",
    "# the string representation of an Instance shows you its name (if any),\n",
    "# its instance id, its instance type, its EC2 zone, and the IP address\n",
    "# you're using to connect to it (if it's running). it also has a number \n",
    "# of 'basic information' attributes. here are a few:\n",
    "print(kitty)\n",
    "print(\n",
    "    f\"the instance is {kitty.state}, named '{kitty.name}', \"\n",
    "    f\"and has the following tags: {kitty.tags}\"\n",
    ")"
   ]
  },
  {
   "cell_type": "code",
   "execution_count": null,
   "id": "d0e70934-4c38-4e7d-a134-9e5307d2d1c1",
   "metadata": {},
   "outputs": [],
   "source": [
    "# you generally don't have to manually establish an SSH connection to the instance --\n",
    "# it will happen automatically when you try to use functionality that\n",
    "# requires a connection. However, if your connection is externally disrupted due to network\n",
    "# dropouts or other issues, you might need to manually reestablish it. This method can \n",
    "# also be used to ensure that you _can_ connect to the instance, or to 'prep' it so that \n",
    "# there's no connection delay on your first command when you get to that part of a program:\n",
    "kitty.connect()"
   ]
  },
  {
   "cell_type": "markdown",
   "id": "fb6ec7de-7c48-422f-92e6-e5815365b084",
   "metadata": {},
   "source": [
    "## 3. controlling instance state\n",
    "\n",
    "`Instance` has several methods to control an instance's activation state:\n",
    "\n",
    "* `start()` boots the Instance.\n",
    "* `stop()` shuts the instance down.\n",
    "* `restart()` shuts the instance down, waits for complete shutdown, and boots it again.\n",
    "* `terminate()` terminates the instance. \n",
    "  * **\\*\\*IMPORTANT\\*\\***: this permanently and irrevocably deletes an instance and, unless\n",
    "    it's specifically configured otherwise, its root volume.\n",
    "  * `hostess` trusts that you know what you're doing, so `terminate()`doesn't have any special guardrails.\n",
    "  * `Instance.terminate()` is like `sudo rm -rf`: Don't even type it unless you really mean it!\n",
    "\n",
    "These methods don't do anything if the instance is already in (or transitioning to)\n",
    "the requested state."
   ]
  },
  {
   "cell_type": "code",
   "execution_count": null,
   "id": "20e0ce31-845b-48c0-a711-98dfe5927e6a",
   "metadata": {},
   "outputs": [],
   "source": [
    "# if you're done with kitty for the moment and don't want to incur further on-demand charges:\n",
    "kitty.stop()"
   ]
  },
  {
   "cell_type": "code",
   "execution_count": null,
   "id": "5553a1d0-5a16-4a9b-adb5-95d8319cc949",
   "metadata": {},
   "outputs": [],
   "source": [
    "# and if you change your mind:\n",
    "kitty.start()"
   ]
  },
  {
   "cell_type": "code",
   "execution_count": null,
   "id": "05775fb9-2a9a-4910-ae3e-29d044401bef",
   "metadata": {},
   "outputs": [],
   "source": [
    "# we're not going to type out the terminate command."
   ]
  },
  {
   "cell_type": "markdown",
   "id": "961c2e85-5bb2-455c-a647-208001eefc8f",
   "metadata": {},
   "source": [
    "## 4. remote procedure calls\n",
    "\n",
    "`Instance` supports two main types of remote procedure calls (RPCs):\n",
    "\n",
    "* shell commands\n",
    "* Python function calls\n",
    "\n",
    "### 4a. shell commands\n",
    "\n",
    "With `Instance`, you can run commands as if you were logged \n",
    "into the instance and work with the output of those commands in Python. \n",
    "`Instance` has three primary methods for this. They are all highly \n",
    "configurable, and we don't discuss all their options here. See the \n",
    "documentation for `hostess.subutils.RunCommand` and \n",
    "`hostess.subutils.Viewer` for a full description of options.\n",
    "\n",
    "* `command()` runs a command in the remote user's default login shell.\n",
    "  you can pass a command as a literal string, or construct it from\n",
    "  Python arguments (examples below). By default it runs the command\n",
    "  asynchronously and returns a `hostess.subutils.Viewer` object you\n",
    "  can use to inspect or terminate the process. \n",
    "* `con()` simulates the experience of typing a command into a console\n",
    "  and looking at its output. It blocks until the process exits and\n",
    "  pretty-prints any output from the process.\n",
    "* `commands()` provides syntactic sugar for constructing list commands.\n",
    "  \n",
    "*note: `hostess` only fully supports `bash`. some functionality may not work in other shells.*"
   ]
  },
  {
   "cell_type": "code",
   "execution_count": null,
   "id": "effd6dee-d2de-41f8-b9be-68de09999a3f",
   "metadata": {},
   "outputs": [],
   "source": [
    "# get the full UNIX name information for the instance.\n",
    "# `hostess` interprets the a=True argument as a shell \n",
    "# switch; this is equivalent to kitty.command('uname -a').\n",
    "uname = kitty.command('uname', a=True)\n",
    "\n",
    "# because Instance.command() runs asynchronously by default,\n",
    "# it's unlikely that you'll get any output in the microseconds\n",
    "# it takes to get to this next line. you'll probably just see \n",
    "# that 'uname' is a Viewer for a running 'uname -a' process. \n",
    "uname"
   ]
  },
  {
   "cell_type": "code",
   "execution_count": null,
   "id": "a09ec8a9-dbab-4488-ad8f-4ca213e00aeb",
   "metadata": {},
   "outputs": [],
   "source": [
    "# it'll probably have completed by the time you execute\n",
    "# this cell, though. \n",
    "uname"
   ]
  },
  {
   "cell_type": "code",
   "execution_count": null,
   "id": "022e0727-720b-4c3c-bdec-caa9c14c0da2",
   "metadata": {},
   "outputs": [],
   "source": [
    "# if you'd like to ensure that a command completes before you move on \n",
    "# to the next part of your code, you can call the .wait() method of \n",
    "# the returned Viewer object or pass _wait=True:\n",
    "usage = kitty.command(\"df -h\", _wait=True)\n",
    "usage"
   ]
  },
  {
   "cell_type": "code",
   "execution_count": null,
   "id": "dcd55d80-9301-4000-bb9c-b940f75630d9",
   "metadata": {},
   "outputs": [],
   "source": [
    "# you can access the stdout and stderr of commands you execute\n",
    "# via the .out and .err attributes of returned Viewers.\n",
    "\n",
    "# these are lists of strings. each element of the lists is an \n",
    "# individual write to stdout/stderr by the remote process. \n",
    "# simple commands that do a thing and exit will generally only have one element, \n",
    "# because they return their output all at once. (this may not be\n",
    "# true in cases in which the output is extremely large, due to SSH \n",
    "# buffering, etc.\n",
    "print(f\"{len(usage.out)} write(s) to stdout\")"
   ]
  },
  {
   "cell_type": "code",
   "execution_count": null,
   "id": "20dee197-0425-478a-946f-ff64c512ba15",
   "metadata": {},
   "outputs": [],
   "source": [
    "# this allows you to use the results of remote shell commands in code.\n",
    "import re\n",
    "import pandas as pd\n",
    "\n",
    "rows = [\n",
    "    re.split(' +', line, maxsplit=5) \n",
    "    for line in usage.out[0].splitlines()\n",
    "]\n",
    "pd.DataFrame(rows[1:], columns=rows[0])"
   ]
  },
  {
   "cell_type": "code",
   "execution_count": null,
   "id": "8e36e787-d92e-4dba-9bd1-b174be528187",
   "metadata": {},
   "outputs": [],
   "source": [
    "# it also allows you to monitor the results of ongoing processes.\n",
    "# a silly example:\n",
    "kitty.command(\"echo 1 > numbers.txt\", _wait=True)\n",
    "tail = kitty.command(\"tail -f numbers.txt\")\n",
    "number = 1\n",
    "while len(tail.out) < 5:\n",
    "    number += 1\n",
    "    kitty.command(f\"echo {number} >> numbers.txt\", _wait=True)\n",
    "    print(tail.out)"
   ]
  },
  {
   "cell_type": "code",
   "execution_count": null,
   "id": "806f4a45-c1d8-4122-8543-e9355271e441",
   "metadata": {},
   "outputs": [],
   "source": [
    "# it can sometimes be important to do manual cleanup of backgrounded RPCs. \n",
    "# note that the tail process is still running, even though we're not using it anymore:\n",
    "tail.running"
   ]
  },
  {
   "cell_type": "code",
   "execution_count": null,
   "id": "85accc6f-1124-41de-926b-c9376f028db0",
   "metadata": {},
   "outputs": [],
   "source": [
    "# so you might want to kill it.\n",
    "tail.kill()\n",
    "tail.running"
   ]
  },
  {
   "cell_type": "code",
   "execution_count": null,
   "id": "094f0dc2-3190-4108-8d56-642a4c6f866a",
   "metadata": {},
   "outputs": [],
   "source": [
    "# the Instance.con() method blocks until process exit, pretty-prints its \n",
    "# output, and doesn't return anything. It's intended to give the feel of\n",
    "# running a command in a console. to pretty-print all active TCP connections:\n",
    "kitty.con(\"ss -t\")"
   ]
  },
  {
   "cell_type": "code",
   "execution_count": null,
   "id": "c1cab0ed-9ca4-469e-9392-f39a248f7e22",
   "metadata": {},
   "outputs": [],
   "source": [
    "# Instance.commands() is an easy way to perform a sequence of commands\n",
    "# without having to enter a monolithic string. a silly example:\n",
    "kitty.commands([\"cd /\", \"ls\"], _wait=True)"
   ]
  },
  {
   "cell_type": "code",
   "execution_count": null,
   "id": "63e32658-238e-4b55-84e0-58c19f11e3ed",
   "metadata": {},
   "outputs": [],
   "source": [
    "# this can be used for serious sysadmin stuff. \n",
    "# a real-world example might look like this:\n",
    "from itertools import chain\n",
    "\n",
    "private_repos = [\"sensitive_devops\", \"proprietary_algos\", \"company_secrets\"]\n",
    "update_commands = chain(\n",
    "    *[\n",
    "        (f\"ssh-add .ssh/{repo}_deploy\", f\"cd {repo}\", \"git pull\", \"cd ~\")\n",
    "        for repo in private_repos\n",
    "    ]\n",
    ")\n",
    "update_result = kitty.commands(\n",
    "    [\"eval `ssh-agent`\", *update_commands], op=\"and\", _wait=True\n",
    ")\n",
    "\n",
    "# this won't actually work, of course, because these are \n",
    "# hypothetical keys and repos, but you get the idea.\n",
    "print(update_result.err)\n",
    "\n",
    "# note that op=\"and\" caused hostess to chain the long sequence of commands\n",
    "# with &&, making bash terminate the whole sequence if any one failed:\n",
    "update_result.command"
   ]
  }
 ],
 "metadata": {
  "kernelspec": {
   "display_name": "Python 3 (ipykernel)",
   "language": "python",
   "name": "python3"
  },
  "language_info": {
   "codemirror_mode": {
    "name": "ipython",
    "version": 3
   },
   "file_extension": ".py",
   "mimetype": "text/x-python",
   "name": "python",
   "nbconvert_exporter": "python",
   "pygments_lexer": "ipython3",
   "version": "3.12.0"
  }
 },
 "nbformat": 4,
 "nbformat_minor": 5
}
